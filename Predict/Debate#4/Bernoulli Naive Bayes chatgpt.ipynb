{
 "cells": [
  {
   "cell_type": "code",
   "execution_count": 1,
   "id": "e7c8e74a",
   "metadata": {},
   "outputs": [],
   "source": [
    "import pandas as pd\n",
    "import numpy as np\n"
   ]
  },
  {
   "cell_type": "code",
   "execution_count": 2,
   "id": "b11c97a2",
   "metadata": {},
   "outputs": [],
   "source": [
    "data = {\n",
    "    'DocID': [1, 2, 3, 4, 5],\n",
    "    'Word1': [1, 0, 1, 0, 1],  # Presence of word1\n",
    "    'Word2': [0, 1, 1, 1, 0],  # Presence of word2\n",
    "    'Class': ['A', 'B', 'A', 'B', 'A']\n",
    "}\n",
    "\n",
    "df = pd.DataFrame(data)"
   ]
  },
  {
   "cell_type": "code",
   "execution_count": 3,
   "id": "3ad5fcb3",
   "metadata": {},
   "outputs": [],
   "source": [
    "def train_bayes(df):\n",
    "    # Separate classes -- sperates all outcomes that can happen, or classifications(classes)\n",
    "    classes = df['Class'].unique()\n",
    "    \n",
    "    # Calculate class prior probabilities - normalize = true give probability\n",
    "    class_priors = df['Class'].value_counts(normalize=True)\n",
    "    \n",
    "    # Calculate conditional probabilities P(word|class)\n",
    "    conditional_probs = {}\n",
    "    #cls = class(i think)\n",
    "    for cls in classes:\n",
    "        #gets a df made up of all of one classification\n",
    "        class_df = df[df['Class'] == cls]\n",
    "        word_probs = {}\n",
    "        #loops through all relevant columns\n",
    "        for col in df.columns[1:-1]:  # Exclude 'DocID' and 'Class'\n",
    "            prob_word_given_cls = (class_df[col].sum() + 1) / (len(class_df) + 2)  # Laplace smoothing\n",
    "            word_probs[col] = prob_word_given_cls\n",
    "        conditional_probs[cls] = word_probs\n",
    "    \n",
    "    return class_priors, conditional_probs"
   ]
  },
  {
   "cell_type": "code",
   "execution_count": 4,
   "id": "dc5956fb",
   "metadata": {},
   "outputs": [],
   "source": [
    "def predict_bayes(doc, class_priors, conditional_probs):\n",
    "    scores = {}\n",
    "    for cls, word_probs in conditional_probs.items():\n",
    "        score = np.log(class_priors[cls])  # Initialize with class prior probability\n",
    "        for word, present in doc.items():\n",
    "            if present:  # Word is present\n",
    "                score += np.log(word_probs[word])  # Add log conditional probability\n",
    "            else:  # Word is absent\n",
    "                score += np.log(1 - word_probs[word])  # Add log (1 - conditional probability)\n",
    "        scores[cls] = score\n",
    "    return max(scores, key=scores.get)"
   ]
  },
  {
   "cell_type": "code",
   "execution_count": 7,
   "id": "9591379c",
   "metadata": {},
   "outputs": [
    {
     "name": "stdout",
     "output_type": "stream",
     "text": [
      "Predicted class: A\n"
     ]
    }
   ],
   "source": [
    "# Example usage\n",
    "class_priors, conditional_probs = train_bayes(df)\n",
    "test_doc = {'Word1': 1, 'Word2': 1}  # Test document\n",
    "predicted_class = predict_bayes(test_doc, class_priors, conditional_probs)\n",
    "print(\"Predicted class:\", predicted_class)"
   ]
  },
  {
   "cell_type": "code",
   "execution_count": null,
   "id": "1dc2affa",
   "metadata": {},
   "outputs": [],
   "source": []
  }
 ],
 "metadata": {
  "kernelspec": {
   "display_name": "Python 3 (ipykernel)",
   "language": "python",
   "name": "python3"
  },
  "language_info": {
   "codemirror_mode": {
    "name": "ipython",
    "version": 3
   },
   "file_extension": ".py",
   "mimetype": "text/x-python",
   "name": "python",
   "nbconvert_exporter": "python",
   "pygments_lexer": "ipython3",
   "version": "3.9.13"
  }
 },
 "nbformat": 4,
 "nbformat_minor": 5
}
