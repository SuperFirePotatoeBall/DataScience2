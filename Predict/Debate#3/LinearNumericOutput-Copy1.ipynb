{
 "cells": [
  {
   "cell_type": "code",
   "execution_count": 3,
   "id": "d0fa1a9d",
   "metadata": {},
   "outputs": [],
   "source": [
    "import pandas as pd\n",
    "import seaborn as sns\n",
    "import numpy as np\n",
    "from sklearn.model_selection import train_test_split\n",
    "from sklearn.linear_model import LinearRegression\n",
    "import math"
   ]
  },
  {
   "cell_type": "code",
   "execution_count": 6,
   "id": "81ab60db",
   "metadata": {},
   "outputs": [],
   "source": [
    "df = pd.read_csv(\"train.csv\")\n",
    "df1 = df.iloc[:974]\n",
    "# highDF = df3[df3['OverallQual'] >= 8]\n",
    "# lowDF = df3[df3['OverallQual'] < 8]\n",
    "df2 = df.iloc[974:]\n",
    "df2 = df2.reset_index(drop=True)\n",
    "check = 300000"
   ]
  },
  {
   "cell_type": "code",
   "execution_count": 7,
   "id": "de741a9e",
   "metadata": {},
   "outputs": [],
   "source": [
    "def calSlope(key, df1):\n",
    "    saleMax = df1.SalePrice.max()\n",
    "    maxID = df1.index[df1['SalePrice'] == saleMax].tolist()\n",
    "\n",
    "    saleMin = df1.SalePrice.min()\n",
    "    minID = df1.index[df1['SalePrice'] == saleMin].tolist()\n",
    "\n",
    "    indeMax = df1._get_value(maxID[0], key)\n",
    "    indeMin = df1._get_value(minID[0], key)\n",
    "\n",
    "    slope = (saleMax - saleMin) / (indeMax - indeMin)\n",
    "    return slope"
   ]
  },
  {
   "cell_type": "code",
   "execution_count": 8,
   "id": "f9762aaa",
   "metadata": {},
   "outputs": [],
   "source": [
    "def calInter(slopes, df1):\n",
    "    #uses max point for rand point\n",
    "    saleMax = df1.SalePrice.max()\n",
    "    maxID = df1.index[df1['SalePrice'] == saleMax].tolist()\n",
    "    b = -saleMax\n",
    "    for i in range(len(slopes)):\n",
    "        #b = -1 * (slope * qualMax - saleMax)\n",
    "        keyMax = df1._get_value(maxID[0], keys[i])\n",
    "        b += -1 * (i * keyMax)\n",
    "#y = M1*X1 + M2*X2 +b\n",
    "#-b = M1*X1 + M2*X2 - y\n",
    "    return(b)"
   ]
  },
  {
   "cell_type": "code",
   "execution_count": 9,
   "id": "7800b0ab",
   "metadata": {},
   "outputs": [],
   "source": [
    "# def skCalLine():\n",
    "#     # Extract the independent variable (X) and the dependent variable (y)\n",
    "#     X = df[[key]]\n",
    "#     y = df['SalePrice']\n",
    "\n",
    "#     # Create a linear regression model and fit it to your data\n",
    "#     model = LinearRegression()\n",
    "#     model.fit(X, y)\n",
    "\n",
    "#     # Retrieve the slope of the line of best fit\n",
    "#     nslope = model.coef_[0]\n",
    "#     nb = model.intercept_\n",
    "#     return([nslope, nb])"
   ]
  },
  {
   "cell_type": "code",
   "execution_count": 10,
   "id": "017516ae",
   "metadata": {},
   "outputs": [],
   "source": [
    "def test(Slopes, b):\n",
    "    se = []\n",
    "    if (df2.iloc[i]['OverallQual'] >= 8):\n",
    "        sale = df2.iloc[i]['SalePrice']\n",
    "        qual = df2.iloc[i]['OverallQual']\n",
    "        predict = Highb\n",
    "        for y in range(len(HighSlopes)):\n",
    "            inde = df2._get_value(i, keys[y])\n",
    "            predict += HighSlopes[y]*inde\n",
    "        se.append(abs((predict-sale) **2))   \n",
    "    # return (sum(x for x in total if x == 1)/len(total))\n",
    "    total = 0\n",
    "    for i in pd.Series(se):\n",
    "        total += i\n",
    "    mse = total/len(pd.Series(se))\n",
    "    rmse = math.sqrt(mse)\n",
    "    return rmse"
   ]
  },
  {
   "cell_type": "code",
   "execution_count": 12,
   "id": "0115c446",
   "metadata": {},
   "outputs": [
    {
     "ename": "UnboundLocalError",
     "evalue": "local variable 'i' referenced before assignment",
     "output_type": "error",
     "traceback": [
      "\u001b[1;31m---------------------------------------------------------------------------\u001b[0m",
      "\u001b[1;31mUnboundLocalError\u001b[0m                         Traceback (most recent call last)",
      "\u001b[1;32m~\\AppData\\Local\\Temp\\ipykernel_15548\\244996548.py\u001b[0m in \u001b[0;36m<module>\u001b[1;34m\u001b[0m\n\u001b[0;32m      7\u001b[0m \u001b[1;33m\u001b[0m\u001b[0m\n\u001b[0;32m      8\u001b[0m \u001b[1;31m#sk = skCalLine()\u001b[0m\u001b[1;33m\u001b[0m\u001b[1;33m\u001b[0m\u001b[0m\n\u001b[1;32m----> 9\u001b[1;33m \u001b[0mpn\u001b[0m \u001b[1;33m=\u001b[0m \u001b[0mtest\u001b[0m\u001b[1;33m(\u001b[0m\u001b[0mslopes\u001b[0m\u001b[1;33m,\u001b[0m \u001b[0mb\u001b[0m\u001b[1;33m)\u001b[0m\u001b[1;33m\u001b[0m\u001b[1;33m\u001b[0m\u001b[0m\n\u001b[0m\u001b[0;32m     10\u001b[0m \u001b[1;31m#psk = test(sk[0], sk[1])\u001b[0m\u001b[1;33m\u001b[0m\u001b[1;33m\u001b[0m\u001b[0m\n\u001b[0;32m     11\u001b[0m \u001b[0mprint\u001b[0m\u001b[1;33m(\u001b[0m\u001b[1;34mf\"My algerithm: {pn}\"\u001b[0m\u001b[1;33m)\u001b[0m\u001b[1;33m\u001b[0m\u001b[1;33m\u001b[0m\u001b[0m\n",
      "\u001b[1;32m~\\AppData\\Local\\Temp\\ipykernel_15548\\1612386597.py\u001b[0m in \u001b[0;36mtest\u001b[1;34m(Slopes, b)\u001b[0m\n\u001b[0;32m      1\u001b[0m \u001b[1;32mdef\u001b[0m \u001b[0mtest\u001b[0m\u001b[1;33m(\u001b[0m\u001b[0mSlopes\u001b[0m\u001b[1;33m,\u001b[0m \u001b[0mb\u001b[0m\u001b[1;33m)\u001b[0m\u001b[1;33m:\u001b[0m\u001b[1;33m\u001b[0m\u001b[1;33m\u001b[0m\u001b[0m\n\u001b[0;32m      2\u001b[0m     \u001b[0mse\u001b[0m \u001b[1;33m=\u001b[0m \u001b[1;33m[\u001b[0m\u001b[1;33m]\u001b[0m\u001b[1;33m\u001b[0m\u001b[1;33m\u001b[0m\u001b[0m\n\u001b[1;32m----> 3\u001b[1;33m     \u001b[1;32mif\u001b[0m \u001b[1;33m(\u001b[0m\u001b[0mdf2\u001b[0m\u001b[1;33m.\u001b[0m\u001b[0miloc\u001b[0m\u001b[1;33m[\u001b[0m\u001b[0mi\u001b[0m\u001b[1;33m]\u001b[0m\u001b[1;33m[\u001b[0m\u001b[1;34m'OverallQual'\u001b[0m\u001b[1;33m]\u001b[0m \u001b[1;33m>=\u001b[0m \u001b[1;36m8\u001b[0m\u001b[1;33m)\u001b[0m\u001b[1;33m:\u001b[0m\u001b[1;33m\u001b[0m\u001b[1;33m\u001b[0m\u001b[0m\n\u001b[0m\u001b[0;32m      4\u001b[0m         \u001b[0msale\u001b[0m \u001b[1;33m=\u001b[0m \u001b[0mdf2\u001b[0m\u001b[1;33m.\u001b[0m\u001b[0miloc\u001b[0m\u001b[1;33m[\u001b[0m\u001b[0mi\u001b[0m\u001b[1;33m]\u001b[0m\u001b[1;33m[\u001b[0m\u001b[1;34m'SalePrice'\u001b[0m\u001b[1;33m]\u001b[0m\u001b[1;33m\u001b[0m\u001b[1;33m\u001b[0m\u001b[0m\n\u001b[0;32m      5\u001b[0m         \u001b[0mqual\u001b[0m \u001b[1;33m=\u001b[0m \u001b[0mdf2\u001b[0m\u001b[1;33m.\u001b[0m\u001b[0miloc\u001b[0m\u001b[1;33m[\u001b[0m\u001b[0mi\u001b[0m\u001b[1;33m]\u001b[0m\u001b[1;33m[\u001b[0m\u001b[1;34m'OverallQual'\u001b[0m\u001b[1;33m]\u001b[0m\u001b[1;33m\u001b[0m\u001b[1;33m\u001b[0m\u001b[0m\n",
      "\u001b[1;31mUnboundLocalError\u001b[0m: local variable 'i' referenced before assignment"
     ]
    }
   ],
   "source": [
    "keys = ['OverallQual', 'GrLivArea']\n",
    "\n",
    "slopes = []\n",
    "for i in keys:\n",
    "    slopes.append(calSlope(i, df1))\n",
    "b = calInter(slopes, df1)\n",
    "\n",
    "#sk = skCalLine()\n",
    "pn = test(slopes, b)\n",
    "#psk = test(sk[0], sk[1])\n",
    "print(f\"My algerithm: {pn}\")"
   ]
  },
  {
   "cell_type": "code",
   "execution_count": null,
   "id": "be4a536c",
   "metadata": {},
   "outputs": [],
   "source": [
    "def getPrediction(slope, intercept, overallqual):\n",
    "    return slope * overallqual + intercept"
   ]
  },
  {
   "cell_type": "code",
   "execution_count": null,
   "id": "49a19fe6",
   "metadata": {},
   "outputs": [],
   "source": []
  },
  {
   "cell_type": "code",
   "execution_count": null,
   "id": "d3c34b04",
   "metadata": {},
   "outputs": [],
   "source": []
  },
  {
   "cell_type": "code",
   "execution_count": null,
   "id": "50890c61",
   "metadata": {},
   "outputs": [],
   "source": []
  }
 ],
 "metadata": {
  "kernelspec": {
   "display_name": "Python 3 (ipykernel)",
   "language": "python",
   "name": "python3"
  },
  "language_info": {
   "codemirror_mode": {
    "name": "ipython",
    "version": 3
   },
   "file_extension": ".py",
   "mimetype": "text/x-python",
   "name": "python",
   "nbconvert_exporter": "python",
   "pygments_lexer": "ipython3",
   "version": "3.9.13"
  }
 },
 "nbformat": 4,
 "nbformat_minor": 5
}
