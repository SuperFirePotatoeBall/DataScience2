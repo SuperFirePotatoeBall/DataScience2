{
 "cells": [
  {
   "cell_type": "code",
   "execution_count": 184,
   "id": "d0fa1a9d",
   "metadata": {},
   "outputs": [],
   "source": [
    "import pandas as pd\n",
    "import seaborn as sns\n",
    "import numpy as np\n",
    "from sklearn.model_selection import train_test_split\n",
    "from sklearn.linear_model import LinearRegression"
   ]
  },
  {
   "cell_type": "code",
   "execution_count": 188,
   "id": "81ab60db",
   "metadata": {},
   "outputs": [],
   "source": [
    "df = pd.read_csv(\"train.csv\")\n",
    "df1 = df.iloc[:974]\n",
    "df2 = df.iloc[974:]\n",
    "df2 = df2.reset_index(drop=True)\n",
    "key = 'OverallQual'\n",
    "check = 300000"
   ]
  },
  {
   "cell_type": "code",
   "execution_count": 178,
   "id": "de741a9e",
   "metadata": {},
   "outputs": [],
   "source": [
    "def calLine():    \n",
    "    saleMax = df1.SalePrice.max()\n",
    "    maxID = df1.index[df1['SalePrice'] == saleMax].tolist()\n",
    "\n",
    "    saleMin = df1.SalePrice.min()\n",
    "    minID = df1.index[df1['SalePrice'] == saleMin].tolist()\n",
    "\n",
    "    qualMax = df1._get_value(maxID[0], key)\n",
    "    qualMin = df1._get_value(minID[0], key)\n",
    "\n",
    "    slope = (saleMax - saleMin) / (qualMax - qualMin)\n",
    "    b = -1 * (slope * qualMax - saleMax)\n",
    "    return([slope,b])"
   ]
  },
  {
   "cell_type": "code",
   "execution_count": 179,
   "id": "7800b0ab",
   "metadata": {},
   "outputs": [],
   "source": [
    "def skCalLine():\n",
    "    # Extract the independent variable (X) and the dependent variable (y)\n",
    "    X = df[[key]]\n",
    "    y = df['SalePrice']\n",
    "\n",
    "    # Create a linear regression model and fit it to your data\n",
    "    model = LinearRegression()\n",
    "    model.fit(X, y)\n",
    "\n",
    "    # Retrieve the slope of the line of best fit\n",
    "    nslope = model.coef_[0]\n",
    "    nb = model.intercept_\n",
    "    return([nslope, nb])"
   ]
  },
  {
   "cell_type": "code",
   "execution_count": 186,
   "id": "017516ae",
   "metadata": {},
   "outputs": [],
   "source": [
    "def test(slope, b):\n",
    "    total = []\n",
    "    for i in range(len(df2)):\n",
    "        qual = df2._get_value(i, key)\n",
    "        sale = df2._get_value(i, 'SalePrice')\n",
    "        predict = slope*qual + b\n",
    "        diff = abs(predict-sale)\n",
    "        if(diff < check):\n",
    "            total.append(1)\n",
    "        else:\n",
    "            total.append(0)\n",
    "    #print(sum(x for x in total if x == 1)/len(total))\n",
    "    return (sum(x for x in total if x == 1)/len(total))"
   ]
  },
  {
   "cell_type": "code",
   "execution_count": 189,
   "id": "0115c446",
   "metadata": {},
   "outputs": [
    {
     "name": "stdout",
     "output_type": "stream",
     "text": [
      "My algerithm: 0.9650205761316872 SK algerithm: 0.9979423868312757\n"
     ]
    }
   ],
   "source": [
    "n = calLine()\n",
    "sk = skCalLine()\n",
    "pn = test(n[0], n[1])\n",
    "psk = test(sk[0], sk[1])\n",
    "print(f\"My algerithm: {pn} SK algerithm: {psk}\")"
   ]
  },
  {
   "cell_type": "code",
   "execution_count": null,
   "id": "bf7e859c",
   "metadata": {},
   "outputs": [],
   "source": []
  }
 ],
 "metadata": {
  "kernelspec": {
   "display_name": "Python 3 (ipykernel)",
   "language": "python",
   "name": "python3"
  },
  "language_info": {
   "codemirror_mode": {
    "name": "ipython",
    "version": 3
   },
   "file_extension": ".py",
   "mimetype": "text/x-python",
   "name": "python",
   "nbconvert_exporter": "python",
   "pygments_lexer": "ipython3",
   "version": "3.9.13"
  }
 },
 "nbformat": 4,
 "nbformat_minor": 5
}
