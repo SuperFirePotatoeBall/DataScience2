{
 "cells": [
  {
   "cell_type": "code",
   "execution_count": 1,
   "id": "d4d27463",
   "metadata": {},
   "outputs": [],
   "source": [
    "import gymnasium as gym\n",
    "import random\n",
    "import time"
   ]
  },
  {
   "cell_type": "code",
   "execution_count": 4,
   "id": "bf09c06e",
   "metadata": {},
   "outputs": [],
   "source": [
    "desc=[\"SFf\", \"FHf\", \"FGF\"]\n",
    "env = gym.make('FrozenLake-v1', desc=desc, map_name=\"3x3\", is_slippery=False, render_mode=\"human\") \n",
    "observation, info = env.reset()\n",
    "#step result:\n",
    "#(square, reward, end, idk, idk)"
   ]
  },
  {
   "cell_type": "code",
   "execution_count": 3,
   "id": "07829ae2",
   "metadata": {},
   "outputs": [],
   "source": [
    "#panic switch\n",
    "env.close()"
   ]
  },
  {
   "cell_type": "code",
   "execution_count": 5,
   "id": "4000bdde",
   "metadata": {},
   "outputs": [],
   "source": [
    "def create_Q_table():\n",
    "    q_table = {}\n",
    "    # Populate Q-table with zeros for each state-action pair\n",
    "    for i in range(9):\n",
    "        q_table[i] = {0: 0, 1: 0, 2: 0, 3: 0}\n",
    "    return q_table\n",
    "        \n",
    "#L = 0, D = 1, R = 2, U = 3"
   ]
  },
  {
   "cell_type": "code",
   "execution_count": 6,
   "id": "87383ece",
   "metadata": {},
   "outputs": [],
   "source": [
    "#init vars\n",
    "alpha = 0.5 #α\n",
    "gamma = 0.5 #γ\n",
    "epsilon = 0.3 #ε - chance of random\n",
    "episodeMax = 100000\n",
    "num_columns = 4\n",
    "num_rows = 5"
   ]
  },
  {
   "cell_type": "code",
   "execution_count": 7,
   "id": "c9ea5ab2",
   "metadata": {},
   "outputs": [],
   "source": [
    "grid = [[1, 2, 3],\n",
    "        [4,5,6],\n",
    "        [7,8,9]]"
   ]
  },
  {
   "cell_type": "code",
   "execution_count": null,
   "id": "6d540388",
   "metadata": {},
   "outputs": [],
   "source": [
    "#q_table[square][direction] = q_table[square][direction] + alpha * (reward + gamma * my_max(q_table[newSquare]) - q_table[square][direction])"
   ]
  },
  {
   "cell_type": "code",
   "execution_count": null,
   "id": "a10f250d",
   "metadata": {},
   "outputs": [],
   "source": [
    "#(q_table[square][0] == q_table[square][1]) and (q_table[square][2] == q_table[square][3])"
   ]
  },
  {
   "cell_type": "code",
   "execution_count": 8,
   "id": "b859c8b6",
   "metadata": {},
   "outputs": [],
   "source": [
    "def find_row_col(grid, value):\n",
    "    for row_index, row in enumerate(grid):\n",
    "        if value in row:\n",
    "            col_index = row.index(value)\n",
    "            return row_index, col_index"
   ]
  },
  {
   "cell_type": "code",
   "execution_count": 9,
   "id": "825179d5",
   "metadata": {},
   "outputs": [],
   "source": [
    "def my_max(table):\n",
    "    #{0: 0, 1: 0.0, 2: 0.0, 3: 0}\n",
    "    maxNum = table[0]\n",
    "    maxID = 0\n",
    "    for i in range(1,4):\n",
    "        num = table[i]\n",
    "        if(num > maxNum):\n",
    "            maxNum = num\n",
    "            maxID = i\n",
    "    return maxID"
   ]
  },
  {
   "cell_type": "code",
   "execution_count": 10,
   "id": "406777e1",
   "metadata": {},
   "outputs": [],
   "source": [
    "def totalDiff(q_table):\n",
    "    total = 0\n",
    "    for row in q_table.values():\n",
    "        for value in row.values():\n",
    "            total += value\n",
    "    return total"
   ]
  },
  {
   "cell_type": "code",
   "execution_count": 11,
   "id": "5a7aecc7",
   "metadata": {},
   "outputs": [
    {
     "name": "stdout",
     "output_type": "stream",
     "text": [
      "3\n"
     ]
    },
    {
     "ename": "KeyboardInterrupt",
     "evalue": "",
     "output_type": "error",
     "traceback": [
      "\u001b[1;31m---------------------------------------------------------------------------\u001b[0m",
      "\u001b[1;31mKeyboardInterrupt\u001b[0m                         Traceback (most recent call last)",
      "Cell \u001b[1;32mIn[11], line 24\u001b[0m\n\u001b[0;32m     22\u001b[0m \u001b[38;5;28;01melif\u001b[39;00m(direction \u001b[38;5;241m==\u001b[39m \u001b[38;5;241m3\u001b[39m \u001b[38;5;129;01mand\u001b[39;00m row \u001b[38;5;241m==\u001b[39m \u001b[38;5;241m0\u001b[39m):\n\u001b[0;32m     23\u001b[0m     \u001b[38;5;28;01mcontinue\u001b[39;00m\n\u001b[1;32m---> 24\u001b[0m arr \u001b[38;5;241m=\u001b[39m env\u001b[38;5;241m.\u001b[39mstep(direction)\n\u001b[0;32m     25\u001b[0m newSquare \u001b[38;5;241m=\u001b[39m arr[\u001b[38;5;241m0\u001b[39m]\n\u001b[0;32m     26\u001b[0m reward \u001b[38;5;241m=\u001b[39m arr[\u001b[38;5;241m1\u001b[39m]\n",
      "File \u001b[1;32m~\\anaconda3\\Lib\\site-packages\\gymnasium\\wrappers\\time_limit.py:57\u001b[0m, in \u001b[0;36mTimeLimit.step\u001b[1;34m(self, action)\u001b[0m\n\u001b[0;32m     46\u001b[0m \u001b[38;5;28;01mdef\u001b[39;00m \u001b[38;5;21mstep\u001b[39m(\u001b[38;5;28mself\u001b[39m, action):\n\u001b[0;32m     47\u001b[0m \u001b[38;5;250m    \u001b[39m\u001b[38;5;124;03m\"\"\"Steps through the environment and if the number of steps elapsed exceeds ``max_episode_steps`` then truncate.\u001b[39;00m\n\u001b[0;32m     48\u001b[0m \n\u001b[0;32m     49\u001b[0m \u001b[38;5;124;03m    Args:\u001b[39;00m\n\u001b[1;32m   (...)\u001b[0m\n\u001b[0;32m     55\u001b[0m \n\u001b[0;32m     56\u001b[0m \u001b[38;5;124;03m    \"\"\"\u001b[39;00m\n\u001b[1;32m---> 57\u001b[0m     observation, reward, terminated, truncated, info \u001b[38;5;241m=\u001b[39m \u001b[38;5;28mself\u001b[39m\u001b[38;5;241m.\u001b[39menv\u001b[38;5;241m.\u001b[39mstep(action)\n\u001b[0;32m     58\u001b[0m     \u001b[38;5;28mself\u001b[39m\u001b[38;5;241m.\u001b[39m_elapsed_steps \u001b[38;5;241m+\u001b[39m\u001b[38;5;241m=\u001b[39m \u001b[38;5;241m1\u001b[39m\n\u001b[0;32m     60\u001b[0m     \u001b[38;5;28;01mif\u001b[39;00m \u001b[38;5;28mself\u001b[39m\u001b[38;5;241m.\u001b[39m_elapsed_steps \u001b[38;5;241m>\u001b[39m\u001b[38;5;241m=\u001b[39m \u001b[38;5;28mself\u001b[39m\u001b[38;5;241m.\u001b[39m_max_episode_steps:\n",
      "File \u001b[1;32m~\\anaconda3\\Lib\\site-packages\\gymnasium\\wrappers\\order_enforcing.py:56\u001b[0m, in \u001b[0;36mOrderEnforcing.step\u001b[1;34m(self, action)\u001b[0m\n\u001b[0;32m     54\u001b[0m \u001b[38;5;28;01mif\u001b[39;00m \u001b[38;5;129;01mnot\u001b[39;00m \u001b[38;5;28mself\u001b[39m\u001b[38;5;241m.\u001b[39m_has_reset:\n\u001b[0;32m     55\u001b[0m     \u001b[38;5;28;01mraise\u001b[39;00m ResetNeeded(\u001b[38;5;124m\"\u001b[39m\u001b[38;5;124mCannot call env.step() before calling env.reset()\u001b[39m\u001b[38;5;124m\"\u001b[39m)\n\u001b[1;32m---> 56\u001b[0m \u001b[38;5;28;01mreturn\u001b[39;00m \u001b[38;5;28mself\u001b[39m\u001b[38;5;241m.\u001b[39menv\u001b[38;5;241m.\u001b[39mstep(action)\n",
      "File \u001b[1;32m~\\anaconda3\\Lib\\site-packages\\gymnasium\\wrappers\\env_checker.py:51\u001b[0m, in \u001b[0;36mPassiveEnvChecker.step\u001b[1;34m(self, action)\u001b[0m\n\u001b[0;32m     49\u001b[0m     \u001b[38;5;28;01mreturn\u001b[39;00m env_step_passive_checker(\u001b[38;5;28mself\u001b[39m\u001b[38;5;241m.\u001b[39menv, action)\n\u001b[0;32m     50\u001b[0m \u001b[38;5;28;01melse\u001b[39;00m:\n\u001b[1;32m---> 51\u001b[0m     \u001b[38;5;28;01mreturn\u001b[39;00m \u001b[38;5;28mself\u001b[39m\u001b[38;5;241m.\u001b[39menv\u001b[38;5;241m.\u001b[39mstep(action)\n",
      "File \u001b[1;32m~\\anaconda3\\Lib\\site-packages\\gymnasium\\envs\\toy_text\\frozen_lake.py:308\u001b[0m, in \u001b[0;36mFrozenLakeEnv.step\u001b[1;34m(self, a)\u001b[0m\n\u001b[0;32m    305\u001b[0m \u001b[38;5;28mself\u001b[39m\u001b[38;5;241m.\u001b[39mlastaction \u001b[38;5;241m=\u001b[39m a\n\u001b[0;32m    307\u001b[0m \u001b[38;5;28;01mif\u001b[39;00m \u001b[38;5;28mself\u001b[39m\u001b[38;5;241m.\u001b[39mrender_mode \u001b[38;5;241m==\u001b[39m \u001b[38;5;124m\"\u001b[39m\u001b[38;5;124mhuman\u001b[39m\u001b[38;5;124m\"\u001b[39m:\n\u001b[1;32m--> 308\u001b[0m     \u001b[38;5;28mself\u001b[39m\u001b[38;5;241m.\u001b[39mrender()\n\u001b[0;32m    309\u001b[0m \u001b[38;5;28;01mreturn\u001b[39;00m (\u001b[38;5;28mint\u001b[39m(s), r, t, \u001b[38;5;28;01mFalse\u001b[39;00m, {\u001b[38;5;124m\"\u001b[39m\u001b[38;5;124mprob\u001b[39m\u001b[38;5;124m\"\u001b[39m: p})\n",
      "File \u001b[1;32m~\\anaconda3\\Lib\\site-packages\\gymnasium\\envs\\toy_text\\frozen_lake.py:338\u001b[0m, in \u001b[0;36mFrozenLakeEnv.render\u001b[1;34m(self)\u001b[0m\n\u001b[0;32m    336\u001b[0m     \u001b[38;5;28;01mreturn\u001b[39;00m \u001b[38;5;28mself\u001b[39m\u001b[38;5;241m.\u001b[39m_render_text()\n\u001b[0;32m    337\u001b[0m \u001b[38;5;28;01melse\u001b[39;00m:  \u001b[38;5;66;03m# self.render_mode in {\"human\", \"rgb_array\"}:\u001b[39;00m\n\u001b[1;32m--> 338\u001b[0m     \u001b[38;5;28;01mreturn\u001b[39;00m \u001b[38;5;28mself\u001b[39m\u001b[38;5;241m.\u001b[39m_render_gui(\u001b[38;5;28mself\u001b[39m\u001b[38;5;241m.\u001b[39mrender_mode)\n",
      "File \u001b[1;32m~\\anaconda3\\Lib\\site-packages\\gymnasium\\envs\\toy_text\\frozen_lake.py:432\u001b[0m, in \u001b[0;36mFrozenLakeEnv._render_gui\u001b[1;34m(self, mode)\u001b[0m\n\u001b[0;32m    430\u001b[0m     pygame\u001b[38;5;241m.\u001b[39mevent\u001b[38;5;241m.\u001b[39mpump()\n\u001b[0;32m    431\u001b[0m     pygame\u001b[38;5;241m.\u001b[39mdisplay\u001b[38;5;241m.\u001b[39mupdate()\n\u001b[1;32m--> 432\u001b[0m     \u001b[38;5;28mself\u001b[39m\u001b[38;5;241m.\u001b[39mclock\u001b[38;5;241m.\u001b[39mtick(\u001b[38;5;28mself\u001b[39m\u001b[38;5;241m.\u001b[39mmetadata[\u001b[38;5;124m\"\u001b[39m\u001b[38;5;124mrender_fps\u001b[39m\u001b[38;5;124m\"\u001b[39m])\n\u001b[0;32m    433\u001b[0m \u001b[38;5;28;01melif\u001b[39;00m mode \u001b[38;5;241m==\u001b[39m \u001b[38;5;124m\"\u001b[39m\u001b[38;5;124mrgb_array\u001b[39m\u001b[38;5;124m\"\u001b[39m:\n\u001b[0;32m    434\u001b[0m     \u001b[38;5;28;01mreturn\u001b[39;00m np\u001b[38;5;241m.\u001b[39mtranspose(\n\u001b[0;32m    435\u001b[0m         np\u001b[38;5;241m.\u001b[39marray(pygame\u001b[38;5;241m.\u001b[39msurfarray\u001b[38;5;241m.\u001b[39mpixels3d(\u001b[38;5;28mself\u001b[39m\u001b[38;5;241m.\u001b[39mwindow_surface)), axes\u001b[38;5;241m=\u001b[39m(\u001b[38;5;241m1\u001b[39m, \u001b[38;5;241m0\u001b[39m, \u001b[38;5;241m2\u001b[39m)\n\u001b[0;32m    436\u001b[0m     )\n",
      "\u001b[1;31mKeyboardInterrupt\u001b[0m: "
     ]
    }
   ],
   "source": [
    "q_table = create_Q_table()\n",
    "start_time = time.time()\n",
    "for i in range(episodeMax):#looping through episodes\n",
    "    terminal = False\n",
    "    observation, info = env.reset()\n",
    "    square = 0\n",
    "    total = totalDiff(q_table)\n",
    "    rewardB = False\n",
    "    while(not terminal):\n",
    "        allSame = (q_table[square][0] == q_table[square][1]) and (q_table[square][2] == q_table[square][3])\n",
    "        if(random.randint(0, 10) > epsilon * 10 and not allSame): #check if all values are same \n",
    "            direction = my_max(q_table[square])\n",
    "        else:\n",
    "            direction = random.randint(0, 3)\n",
    "        row, col = find_row_col(grid, square+1)  \n",
    "        if(direction == 0 and col == 0):\n",
    "            continue\n",
    "        elif(direction == 1 and row == 4):\n",
    "            continue\n",
    "        elif(direction == 2 and col == 3):\n",
    "            continue\n",
    "        elif(direction == 3 and row == 0):\n",
    "            continue\n",
    "        arr = env.step(direction)\n",
    "        newSquare = arr[0]\n",
    "        reward = arr[1]\n",
    "        newQValue = q_table[square][direction] + alpha * (reward + gamma * q_table[newSquare][my_max(q_table[newSquare])] - q_table[square][direction])\n",
    "        q_table[square][direction] = newQValue\n",
    "        terminal = arr[2]\n",
    "        square = newSquare\n",
    "        if (rewardB == False and reward == 1.0):\n",
    "            print(i)\n",
    "    newTotal = totalDiff(q_table)\n",
    "    if(abs(newTotal - total) > 0 and abs(newTotal - total)< 0.01):\n",
    "        print(i)\n",
    "        break\n",
    "end_time = time.time()    \n",
    "q_table"
   ]
  },
  {
   "cell_type": "code",
   "execution_count": 37,
   "id": "f1e1cea8",
   "metadata": {},
   "outputs": [
    {
     "name": "stdout",
     "output_type": "stream",
     "text": [
      "Time elapsed: 16.533742904663086 seconds\n"
     ]
    }
   ],
   "source": [
    "elapsed_time = end_time - start_time\n",
    "print(\"Time elapsed:\", elapsed_time, \"seconds\")"
   ]
  },
  {
   "cell_type": "code",
   "execution_count": 38,
   "id": "f395bc70",
   "metadata": {},
   "outputs": [],
   "source": [
    "env.close()"
   ]
  },
  {
   "cell_type": "code",
   "execution_count": 20,
   "id": "85d41525",
   "metadata": {},
   "outputs": [],
   "source": [
    "envTwo = gym.make('FrozenLake-v1', desc=desc, map_name=\"5x5\", is_slippery=False, render_mode=\"human\")\n",
    "observation, info = envTwo.reset()"
   ]
  },
  {
   "cell_type": "code",
   "execution_count": 22,
   "id": "f674f20c",
   "metadata": {},
   "outputs": [],
   "source": [
    "observation, info = envTwo.reset()\n",
    "terminal = False\n",
    "square = 0\n",
    "while(not terminal):\n",
    "    allSame = (q_table[square][0] == q_table[square][1]) and (q_table[square][2] == q_table[square][3])\n",
    "    if(not allSame): #check if all values are same \n",
    "        direction = my_max(q_table[square])\n",
    "    else:\n",
    "        direction = random.randint(0, 3)\n",
    "    row, col = find_row_col(grid, square+1)  \n",
    "    if(direction == 0 and col == 0):\n",
    "        continue\n",
    "    elif(direction == 1 and row == 4):\n",
    "        continue\n",
    "    elif(direction == 2 and col == 3):\n",
    "        continue\n",
    "    elif(direction == 3 and row == 0):\n",
    "        print(direction == 3 and row == 0) \n",
    "        continue\n",
    "    arr = envTwo.step(direction)\n",
    "    newSquare = arr[0]\n",
    "    reward = arr[1]\n",
    "    terminal = arr[2]\n",
    "    square = newSquare"
   ]
  },
  {
   "cell_type": "code",
   "execution_count": 23,
   "id": "4beea2c4",
   "metadata": {},
   "outputs": [],
   "source": [
    "envTwo.close()"
   ]
  },
  {
   "cell_type": "code",
   "execution_count": null,
   "id": "91b082f7",
   "metadata": {},
   "outputs": [],
   "source": []
  }
 ],
 "metadata": {
  "kernelspec": {
   "display_name": "Python 3 (ipykernel)",
   "language": "python",
   "name": "python3"
  },
  "language_info": {
   "codemirror_mode": {
    "name": "ipython",
    "version": 3
   },
   "file_extension": ".py",
   "mimetype": "text/x-python",
   "name": "python",
   "nbconvert_exporter": "python",
   "pygments_lexer": "ipython3",
   "version": "3.11.7"
  }
 },
 "nbformat": 4,
 "nbformat_minor": 5
}
