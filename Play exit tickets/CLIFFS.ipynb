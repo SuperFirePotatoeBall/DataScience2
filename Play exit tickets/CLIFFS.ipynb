{
 "cells": [
  {
   "cell_type": "code",
   "execution_count": 2,
   "id": "61c78611-5b70-4fda-86dc-46e8eaa800d3",
   "metadata": {},
   "outputs": [],
   "source": [
    "import gymnasium as gym\n",
    "import random\n",
    "import time"
   ]
  },
  {
   "cell_type": "code",
   "execution_count": 3,
   "id": "7649304f-ad09-422c-9cfb-356df13cc359",
   "metadata": {},
   "outputs": [],
   "source": [
    "env = gym.make('CliffWalking-v0') #, render_mode = \"human\"\n",
    "observation, info = env.reset()\n",
    "#step result:\n",
    "#(square, reward, end, idk, idk)"
   ]
  },
  {
   "cell_type": "code",
   "execution_count": 4,
   "id": "5bcc4263-01a9-49c5-9f5f-deb22f83c2a6",
   "metadata": {},
   "outputs": [],
   "source": [
    "#panic switch\n",
    "env.close()"
   ]
  },
  {
   "cell_type": "code",
   "execution_count": 5,
   "id": "b0d9178b-33d2-45de-839d-93da0dd6328a",
   "metadata": {},
   "outputs": [],
   "source": [
    "def create_Q_table():\n",
    "    q_table = {}\n",
    "    # Populate Q-table with zeros for each state-action pair\n",
    "    for i in range(4*12):\n",
    "        q_table[i] = {0: 0, 1: 0, 2: 0, 3: 0}\n",
    "    return q_table\n",
    "        \n",
    "#L = 0, D = 1, R = 2, U = 3"
   ]
  },
  {
   "cell_type": "code",
   "execution_count": 6,
   "id": "ce6f5002-451b-44f9-b6d2-2c74a46b89e8",
   "metadata": {},
   "outputs": [],
   "source": [
    "#init vars\n",
    "alpha = 0.5 #α\n",
    "gamma = 0.5 #γ\n",
    "epsilon = 0.3 #ε - chance of random\n",
    "episodeMax = 10000"
   ]
  },
  {
   "cell_type": "code",
   "execution_count": 7,
   "id": "ef212413-95af-4ff2-9c9d-b36f068d7645",
   "metadata": {},
   "outputs": [],
   "source": [
    "x = 0\n",
    "grid = []\n",
    "for i in range(0,4): #row\n",
    "    row = []\n",
    "    for y in range(0,12): #col\n",
    "        row.append(x)\n",
    "        x += 1\n",
    "    grid.append(row)"
   ]
  },
  {
   "cell_type": "code",
   "execution_count": 8,
   "id": "09567cf4-84a0-459b-a27e-dab948c335ee",
   "metadata": {},
   "outputs": [],
   "source": [
    "def find_row_col(grid, value):\n",
    "    for row_index, row in enumerate(grid):\n",
    "        if value in row:\n",
    "            col_index = row.index(value)\n",
    "            return row_index, col_index"
   ]
  },
  {
   "cell_type": "code",
   "execution_count": 9,
   "id": "d7dad02d-c587-4388-9368-a257462cf008",
   "metadata": {},
   "outputs": [],
   "source": [
    "def my_max(table):\n",
    "    #{0: 0, 1: 0.0, 2: 0.0, 3: 0}\n",
    "    maxNum = table[0]\n",
    "    maxID = 0\n",
    "    for i in range(1,4):\n",
    "        num = table[i]\n",
    "        if(num > maxNum):\n",
    "            maxNum = num\n",
    "            maxID = i\n",
    "    return maxID"
   ]
  },
  {
   "cell_type": "code",
   "execution_count": 10,
   "id": "939e9229-1414-4e51-83ad-fda58720ec5a",
   "metadata": {},
   "outputs": [],
   "source": [
    "def totalDiff(q_table):\n",
    "    total = 0\n",
    "    for row in q_table.values():\n",
    "        for value in row.values():\n",
    "            total += value\n",
    "    return total"
   ]
  },
  {
   "cell_type": "code",
   "execution_count": 11,
   "id": "b0689650-5f1b-4288-95f8-bb93f64815bb",
   "metadata": {},
   "outputs": [],
   "source": [
    "def check_all_values_same(dictionary):\n",
    "    # Get the first value in the dictionary\n",
    "    first_value = next(iter(dictionary.values()), None)\n",
    "    \n",
    "    # If the dictionary is empty, return False\n",
    "    if first_value is None:\n",
    "        return False\n",
    "    \n",
    "    # Check if all values are the same as the first value\n",
    "    return all(value == first_value for value in dictionary.values())"
   ]
  },
  {
   "cell_type": "code",
   "execution_count": 17,
   "id": "8e87144b-f7ac-4d23-92cd-85140f8509e4",
   "metadata": {},
   "outputs": [
    {
     "name": "stdout",
     "output_type": "stream",
     "text": [
      "1\n",
      "[24, 12, 0, 1, 2, 3, 4, 3, 15, 3, 4, 5, 4, 5, 4, 3, 15, 3, 4, 3, 15, 3, 15, 27, 28, 29, 17, 5, 17, 5, 4, 3, 15, 27, 15, 3, 15, 27, 26, 14, 2, 3, 15, 3, 4, 16, 4, 3, 4, 16, 4, 5, 17, 5, 6, 7, 19, 7, 6, 18, 6, 7, 19, 7, 6, 7, 19, 7, 6, 5, 17, 16, 4, 3, 4, 3, 4, 5, 6, 7, 19, 7, 6, 5, 17, 5, 17, 5, 17, 5, 6, 7, 8, 20, 8, 7, 6, 7, 19, 7, 8, 9, 21, 22, 23, 11, 10, 9, 10, 22, 10, 9, 21, 9, 10, 22, 21, 9, 10, 9, 8, 20, 8, 7, 8, 9, 8, 9, 21, 9, 8, 9, 10, 9, 10, 9, 10, 9, 10, 11, 23, 11, 10, 11, 10, 11, 10, 11, 23, 35, 34, 22, 10, 22, 10, 9, 10, 22, 23, 11, 10, 9, 10, 11, 10, 11, 23, 11, 10, 11, 10, 11, 23, 11, 23, 11, 10, 9, 8, 20, 8, 9, 21, 9, 10, 11, 10, 22, 10, 11, 10, 22, 21, 9, 21, 20, 21, 9, 10, 22, 10, 9, 21, 9, 21, 9, 10, 9, 10, 22, 10, 11, 23, 35, 23, 11, 10, 9, 10, 9, 21, 33, 21, 9, 21, 9, 21, 9, 21, 33, 34, 22, 10, 11, 23, 35, 23, 11, 10, 9, 10, 9, 10, 22, 10, 11, 23, 11, 10, 22, 23, 11, 23, 35, 23, 11, 10, 11, 10, 22, 10, 22, 21, 9, 8, 7, 19, 7, 8, 20, 19, 18, 6, 7, 19, 7, 6, 18, 19, 7, 19, 7, 8, 7, 6, 18, 19, 7, 19, 7, 19, 7, 8, 7, 8, 9, 10, 11, 10, 22, 10, 22, 34, 22, 10, 22, 10, 22, 34, 22, 10, 11, 23, 11, 23, 22, 10, 11, 23, 35, 47]\n"
     ]
    },
    {
     "data": {
      "text/plain": [
       "{0: {0: 0, 1: 0.003662109375, 2: 0.0036617740988730933, 3: 0},\n",
       " 1: {0: 0, 1: 0.00732421875, 2: 0.007324218749998682, 3: 0.0018310546875},\n",
       " 2: {0: 0, 1: 0.0146484375, 2: 0.0146484375, 3: 0.003662109375},\n",
       " 3: {0: 0, 1: 0.029296875, 2: 0.029296875, 3: 0.00732421875},\n",
       " 4: {0: 0, 1: 0.05859375, 2: 0.05859375, 3: 0.0146484375},\n",
       " 5: {0: 0, 1: 0.1171875, 2: 0.1171875, 3: 0.029296875},\n",
       " 6: {0: 0, 1: 0.234375, 2: 0.234375, 3: 0.05859375},\n",
       " 7: {0: 0, 1: 0.46875, 2: 0.46875, 3: 0.1171875},\n",
       " 8: {0: 0, 1: 0.9375, 2: 0.9375, 3: 0.234375},\n",
       " 9: {0: 0, 1: 1.875, 2: 1.875, 3: 0.46875},\n",
       " 10: {0: 0, 1: 3.75, 2: 3.75, 3: 0.9375},\n",
       " 11: {0: 0, 1: 0, 2: 7.5, 3: 1.875},\n",
       " 12: {0: 0.0018310546875, 1: 0.00732421875, 2: 0.00732421875, 3: 0},\n",
       " 13: {0: 0.003662109375, 1: 0.0146484375, 2: 0.0146484375, 3: 0.003662109375},\n",
       " 14: {0: 0.00732421875, 1: 0.029296875, 2: 0.029296875, 3: 0.00732421875},\n",
       " 15: {0: 0.0146484375, 1: 0.05859375, 2: 0.05859375, 3: 0.0146484375},\n",
       " 16: {0: 0.029296875, 1: 0.1171875, 2: 0.1171875, 3: 0.029296875},\n",
       " 17: {0: 0.05859375, 1: 0.234375, 2: 0.234375, 3: 0.05859375},\n",
       " 18: {0: 0.1171875, 1: 0.46875, 2: 0.46875, 3: 0.1171875},\n",
       " 19: {0: 0.234375, 1: 0.9375, 2: 0.9375, 3: 0.234375},\n",
       " 20: {0: 0.46875, 1: 1.875, 2: 1.875, 3: 0.46875},\n",
       " 21: {0: 0.9375, 1: 3.75, 2: 3.75, 3: 0.9375},\n",
       " 22: {0: 1.875, 1: 7.5, 2: 7.5, 3: 1.875},\n",
       " 23: {0: 3.75, 1: 0, 2: 15.0, 3: 3.75},\n",
       " 24: {0: 0.003662109375, 1: 0.0146484375, 2: 0.003662109375, 3: 0},\n",
       " 25: {0: 0.00732421875, 1: 0.029296875, 2: -98.996337890625, 3: 0.00732421875},\n",
       " 26: {0: 0.0146484375, 1: 0.05859375, 2: -98.996337890625, 3: 0.0146484375},\n",
       " 27: {0: 0.029296875, 1: 0.1171875, 2: -98.996337890625, 3: 0.029296875},\n",
       " 28: {0: 0.05859375, 1: 0.234375, 2: -98.996337890625, 3: 0.05859375},\n",
       " 29: {0: 0.1171875, 1: 0.46875, 2: -98.996337890625, 3: 0.1171875},\n",
       " 30: {0: 0.234375, 1: 0.9375, 2: -98.996337890625, 3: 0.234375},\n",
       " 31: {0: 0.46875, 1: 1.875, 2: -98.996337890625, 3: 0.46875},\n",
       " 32: {0: 0.9375, 1: 3.75, 2: -98.996337890625, 3: 0.9375},\n",
       " 33: {0: 1.875, 1: 7.5, 2: -98.996337890625, 3: 1.875},\n",
       " 34: {0: 3.75, 1: 15.0, 2: -98.996337890625, 3: 3.75},\n",
       " 35: {0: 7.5, 1: 0, 2: 30.0, 3: 7.5},\n",
       " 36: {0: 0.00732421875, 1: -98.996337890625, 2: 0, 3: 0},\n",
       " 37: {0: 0, 1: 0, 2: 0, 3: 0},\n",
       " 38: {0: 0, 1: 0, 2: 0, 3: 0},\n",
       " 39: {0: 0, 1: 0, 2: 0, 3: 0},\n",
       " 40: {0: 0, 1: 0, 2: 0, 3: 0},\n",
       " 41: {0: 0, 1: 0, 2: 0, 3: 0},\n",
       " 42: {0: 0, 1: 0, 2: 0, 3: 0},\n",
       " 43: {0: 0, 1: 0, 2: 0, 3: 0},\n",
       " 44: {0: 0, 1: 0, 2: 0, 3: 0},\n",
       " 45: {0: 0, 1: 0, 2: 0, 3: 0},\n",
       " 46: {0: 0, 1: 0, 2: 0, 3: 0},\n",
       " 47: {0: 0, 1: 0, 2: 0, 3: 0}}"
      ]
     },
     "execution_count": 17,
     "metadata": {},
     "output_type": "execute_result"
    }
   ],
   "source": [
    "q_table = create_Q_table()\n",
    "start_time = time.time()\n",
    "rewardb = False\n",
    "firstPath = []\n",
    "for i in range(episodeMax):#looping through episodes\n",
    "    terminal = False\n",
    "    observation, info = env.reset()\n",
    "    square = 36\n",
    "    total = totalDiff(q_table)\n",
    "    currentPath = []\n",
    "    while(not terminal):\n",
    "        if(random.randint(0, 10) > epsilon * 10): #check if all values are same  #and not allSame\n",
    "            direction = my_max(q_table[square])\n",
    "        else:\n",
    "            direction = random.randint(0, 3)\n",
    "        row, col = find_row_col(grid, square)  #U = 0, R = 1, D = 2, L = 3 #L = 0, D = 1, R = 2, U = 3\n",
    "        if(direction == 3 and col == 0):\n",
    "            continue\n",
    "        elif(direction == 2 and row == 3):\n",
    "            continue\n",
    "        elif(direction == 1 and col == 11):\n",
    "            continue\n",
    "        elif(direction == 0 and row == 0):\n",
    "            continue\n",
    "        arr = env.step(direction)\n",
    "        newSquare = arr[0]\n",
    "        currentPath.append(newSquare)\n",
    "        reward = arr[1] + 1\n",
    "        if(newSquare == 47):\n",
    "            reward = 30\n",
    "            if rewardb == False:\n",
    "                print(i)\n",
    "                rewardb = True\n",
    "                print(currentPath)\n",
    "                firstPath = currentPath\n",
    "        newQValue = q_table[square][direction] + alpha * (reward + gamma * q_table[newSquare][my_max(q_table[newSquare])] - q_table[square][direction])\n",
    "        q_table[square][direction] = newQValue\n",
    "        terminal = arr[2]\n",
    "        if(reward == -99):\n",
    "            terminal = True\n",
    "        square = newSquare\n",
    "    newTotal = totalDiff(q_table)\n",
    "    if(abs(newTotal - total) > 0 and abs(newTotal - total)< 0.0000000000001):\n",
    "        print(i)\n",
    "        break\n",
    "end_time = time.time()    \n",
    "q_table"
   ]
  },
  {
   "cell_type": "code",
   "execution_count": 14,
   "id": "bee2fbb9-3957-46e2-b8b1-64bfa7197ea7",
   "metadata": {},
   "outputs": [
    {
     "data": {
      "text/plain": [
       "1866"
      ]
     },
     "execution_count": 14,
     "metadata": {},
     "output_type": "execute_result"
    }
   ],
   "source": [
    "len(firstPath)"
   ]
  },
  {
   "cell_type": "code",
   "execution_count": 22,
   "id": "8c42aaa3-214f-465a-ba58-3fad2e76a3d6",
   "metadata": {},
   "outputs": [],
   "source": [
    "string = str(firstPath[0])\n",
    "for i in range(len(firstPath)-1):\n",
    "    string = string + \" -> \" + str(firstPath[i+1])"
   ]
  },
  {
   "cell_type": "code",
   "execution_count": 23,
   "id": "fe4465ef-49c5-4542-ac58-7b06b1a41ca8",
   "metadata": {},
   "outputs": [
    {
     "data": {
      "text/plain": [
       "'24 -> 36 -> 24 -> 25 -> 24 -> 12 -> 0 -> 1 -> 0 -> 12 -> 0 -> 12 -> 0 -> 1 -> 13 -> 12 -> 0 -> 12 -> 0 -> 1 -> 13 -> 1 -> 13 -> 1 -> 0 -> 12 -> 0 -> 1 -> 2 -> 3 -> 2 -> 3 -> 4 -> 16 -> 4 -> 3 -> 4 -> 3 -> 4 -> 3 -> 15 -> 3 -> 15 -> 14 -> 2 -> 1 -> 0 -> 12 -> 0 -> 1 -> 0 -> 1 -> 2 -> 3 -> 4 -> 3 -> 4 -> 5 -> 4 -> 5 -> 4 -> 16 -> 4 -> 16 -> 17 -> 5 -> 17 -> 5 -> 4 -> 5 -> 17 -> 5 -> 4 -> 5 -> 4 -> 5 -> 4 -> 5 -> 4 -> 16 -> 4 -> 5 -> 6 -> 18 -> 6 -> 5 -> 4 -> 5 -> 4 -> 5 -> 4 -> 5 -> 4 -> 16 -> 4 -> 3 -> 15 -> 14 -> 2 -> 14 -> 13 -> 12 -> 0 -> 12 -> 0 -> 12 -> 0 -> 1 -> 13 -> 1 -> 13 -> 1 -> 0 -> 1 -> 2 -> 1 -> 13 -> 1 -> 2 -> 14 -> 2 -> 3 -> 4 -> 5 -> 6 -> 7 -> 8 -> 20 -> 8 -> 20 -> 8 -> 7 -> 8 -> 20 -> 8 -> 20 -> 32 -> 20 -> 8 -> 20 -> 8 -> 7 -> 8 -> 7 -> 8 -> 7 -> 19 -> 7 -> 8 -> 20 -> 8 -> 20 -> 8 -> 9 -> 8 -> 7 -> 6 -> 7 -> 19 -> 7 -> 19 -> 20 -> 8 -> 20 -> 8 -> 9 -> 21 -> 9 -> 8 -> 9 -> 10 -> 9 -> 21 -> 33 -> 21 -> 9 -> 10 -> 22 -> 23 -> 11 -> 10 -> 22 -> 10 -> 22 -> 34 -> 33 -> 32 -> 20 -> 8 -> 20 -> 32 -> 20 -> 8 -> 20 -> 8 -> 7 -> 6 -> 5 -> 17 -> 5 -> 4 -> 3 -> 4 -> 5 -> 17 -> 5 -> 6 -> 5 -> 4 -> 5 -> 4 -> 3 -> 4 -> 5 -> 6 -> 18 -> 6 -> 5 -> 17 -> 5 -> 4 -> 16 -> 28 -> 29 -> 17 -> 18 -> 6 -> 5 -> 17 -> 5 -> 17 -> 5 -> 17 -> 18 -> 6 -> 18 -> 6 -> 7 -> 6 -> 7 -> 8 -> 20 -> 8 -> 9 -> 21 -> 9 -> 8 -> 7 -> 6 -> 7 -> 8 -> 20 -> 8 -> 9 -> 21 -> 9 -> 8 -> 9 -> 10 -> 9 -> 21 -> 33 -> 21 -> 9 -> 8 -> 7 -> 19 -> 31 -> 19 -> 18 -> 6 -> 18 -> 6 -> 7 -> 19 -> 7 -> 19 -> 7 -> 6 -> 7 -> 19 -> 7 -> 19 -> 7 -> 19 -> 7 -> 8 -> 20 -> 8 -> 7 -> 6 -> 5 -> 4 -> 5 -> 6 -> 18 -> 6 -> 7 -> 6 -> 18 -> 6 -> 5 -> 4 -> 5 -> 17 -> 5 -> 4 -> 5 -> 17 -> 5 -> 6 -> 7 -> 6 -> 5 -> 4 -> 5 -> 6 -> 18 -> 6 -> 18 -> 6 -> 5 -> 4 -> 5 -> 17 -> 5 -> 17 -> 5 -> 6 -> 5 -> 6 -> 5 -> 6 -> 7 -> 8 -> 9 -> 8 -> 9 -> 21 -> 9 -> 10 -> 22 -> 10 -> 9 -> 8 -> 7 -> 19 -> 18 -> 6 -> 18 -> 6 -> 5 -> 4 -> 5 -> 6 -> 7 -> 8 -> 20 -> 8 -> 7 -> 19 -> 7 -> 8 -> 20 -> 8 -> 20 -> 21 -> 9 -> 8 -> 9 -> 21 -> 9 -> 8 -> 20 -> 8 -> 9 -> 21 -> 9 -> 10 -> 9 -> 8 -> 7 -> 6 -> 7 -> 8 -> 7 -> 8 -> 9 -> 8 -> 7 -> 19 -> 7 -> 8 -> 7 -> 8 -> 9 -> 8 -> 7 -> 8 -> 7 -> 6 -> 18 -> 19 -> 7 -> 19 -> 7 -> 6 -> 7 -> 8 -> 9 -> 21 -> 9 -> 10 -> 11 -> 10 -> 22 -> 10 -> 9 -> 10 -> 9 -> 10 -> 9 -> 21 -> 22 -> 10 -> 11 -> 23 -> 35 -> 47'"
      ]
     },
     "execution_count": 23,
     "metadata": {},
     "output_type": "execute_result"
    }
   ],
   "source": [
    "string"
   ]
  },
  {
   "cell_type": "code",
   "execution_count": 25,
   "id": "304d2951-69de-4f5c-a92e-7653cf7a3184",
   "metadata": {},
   "outputs": [
    {
     "name": "stdout",
     "output_type": "stream",
     "text": [
      "Time elapsed: 1.702498435974121 seconds\n"
     ]
    }
   ],
   "source": [
    "elapsed_time = end_time - start_time\n",
    "print(\"Time elapsed:\", elapsed_time, \"seconds\")"
   ]
  },
  {
   "cell_type": "code",
   "execution_count": 14,
   "id": "4342addb-5b16-409e-8919-26d0b1c02531",
   "metadata": {},
   "outputs": [],
   "source": [
    "env.close()"
   ]
  },
  {
   "cell_type": "code",
   "execution_count": 15,
   "id": "2f88c36b-8cc8-4bbe-ab65-54586cdd805b",
   "metadata": {},
   "outputs": [],
   "source": [
    "envTwo = gym.make('CliffWalking-v0', render_mode = \"human\") \n",
    "observation, info = envTwo.reset()"
   ]
  },
  {
   "cell_type": "code",
   "execution_count": 16,
   "id": "da92342c-95eb-4f2a-b620-b7eb5434e036",
   "metadata": {},
   "outputs": [
    {
     "ename": "KeyboardInterrupt",
     "evalue": "",
     "output_type": "error",
     "traceback": [
      "\u001b[1;31m---------------------------------------------------------------------------\u001b[0m",
      "\u001b[1;31mKeyboardInterrupt\u001b[0m                         Traceback (most recent call last)",
      "Cell \u001b[1;32mIn[16], line 20\u001b[0m\n\u001b[0;32m     18\u001b[0m     \u001b[38;5;28mprint\u001b[39m(direction \u001b[38;5;241m==\u001b[39m \u001b[38;5;241m3\u001b[39m \u001b[38;5;129;01mand\u001b[39;00m row \u001b[38;5;241m==\u001b[39m \u001b[38;5;241m0\u001b[39m) \n\u001b[0;32m     19\u001b[0m     \u001b[38;5;28;01mcontinue\u001b[39;00m\n\u001b[1;32m---> 20\u001b[0m arr \u001b[38;5;241m=\u001b[39m envTwo\u001b[38;5;241m.\u001b[39mstep(direction)\n\u001b[0;32m     21\u001b[0m newSquare \u001b[38;5;241m=\u001b[39m arr[\u001b[38;5;241m0\u001b[39m]\n\u001b[0;32m     22\u001b[0m reward \u001b[38;5;241m=\u001b[39m arr[\u001b[38;5;241m1\u001b[39m]\n",
      "File \u001b[1;32m~\\anaconda3\\Lib\\site-packages\\gymnasium\\wrappers\\order_enforcing.py:56\u001b[0m, in \u001b[0;36mOrderEnforcing.step\u001b[1;34m(self, action)\u001b[0m\n\u001b[0;32m     54\u001b[0m \u001b[38;5;28;01mif\u001b[39;00m \u001b[38;5;129;01mnot\u001b[39;00m \u001b[38;5;28mself\u001b[39m\u001b[38;5;241m.\u001b[39m_has_reset:\n\u001b[0;32m     55\u001b[0m     \u001b[38;5;28;01mraise\u001b[39;00m ResetNeeded(\u001b[38;5;124m\"\u001b[39m\u001b[38;5;124mCannot call env.step() before calling env.reset()\u001b[39m\u001b[38;5;124m\"\u001b[39m)\n\u001b[1;32m---> 56\u001b[0m \u001b[38;5;28;01mreturn\u001b[39;00m \u001b[38;5;28mself\u001b[39m\u001b[38;5;241m.\u001b[39menv\u001b[38;5;241m.\u001b[39mstep(action)\n",
      "File \u001b[1;32m~\\anaconda3\\Lib\\site-packages\\gymnasium\\wrappers\\env_checker.py:51\u001b[0m, in \u001b[0;36mPassiveEnvChecker.step\u001b[1;34m(self, action)\u001b[0m\n\u001b[0;32m     49\u001b[0m     \u001b[38;5;28;01mreturn\u001b[39;00m env_step_passive_checker(\u001b[38;5;28mself\u001b[39m\u001b[38;5;241m.\u001b[39menv, action)\n\u001b[0;32m     50\u001b[0m \u001b[38;5;28;01melse\u001b[39;00m:\n\u001b[1;32m---> 51\u001b[0m     \u001b[38;5;28;01mreturn\u001b[39;00m \u001b[38;5;28mself\u001b[39m\u001b[38;5;241m.\u001b[39menv\u001b[38;5;241m.\u001b[39mstep(action)\n",
      "File \u001b[1;32m~\\anaconda3\\Lib\\site-packages\\gymnasium\\envs\\toy_text\\cliffwalking.py:181\u001b[0m, in \u001b[0;36mCliffWalkingEnv.step\u001b[1;34m(self, a)\u001b[0m\n\u001b[0;32m    178\u001b[0m \u001b[38;5;28mself\u001b[39m\u001b[38;5;241m.\u001b[39mlastaction \u001b[38;5;241m=\u001b[39m a\n\u001b[0;32m    180\u001b[0m \u001b[38;5;28;01mif\u001b[39;00m \u001b[38;5;28mself\u001b[39m\u001b[38;5;241m.\u001b[39mrender_mode \u001b[38;5;241m==\u001b[39m \u001b[38;5;124m\"\u001b[39m\u001b[38;5;124mhuman\u001b[39m\u001b[38;5;124m\"\u001b[39m:\n\u001b[1;32m--> 181\u001b[0m     \u001b[38;5;28mself\u001b[39m\u001b[38;5;241m.\u001b[39mrender()\n\u001b[0;32m    182\u001b[0m \u001b[38;5;28;01mreturn\u001b[39;00m (\u001b[38;5;28mint\u001b[39m(s), r, t, \u001b[38;5;28;01mFalse\u001b[39;00m, {\u001b[38;5;124m\"\u001b[39m\u001b[38;5;124mprob\u001b[39m\u001b[38;5;124m\"\u001b[39m: p})\n",
      "File \u001b[1;32m~\\anaconda3\\Lib\\site-packages\\gymnasium\\envs\\toy_text\\cliffwalking.py:206\u001b[0m, in \u001b[0;36mCliffWalkingEnv.render\u001b[1;34m(self)\u001b[0m\n\u001b[0;32m    204\u001b[0m     \u001b[38;5;28;01mreturn\u001b[39;00m \u001b[38;5;28mself\u001b[39m\u001b[38;5;241m.\u001b[39m_render_text()\n\u001b[0;32m    205\u001b[0m \u001b[38;5;28;01melse\u001b[39;00m:\n\u001b[1;32m--> 206\u001b[0m     \u001b[38;5;28;01mreturn\u001b[39;00m \u001b[38;5;28mself\u001b[39m\u001b[38;5;241m.\u001b[39m_render_gui(\u001b[38;5;28mself\u001b[39m\u001b[38;5;241m.\u001b[39mrender_mode)\n",
      "File \u001b[1;32m~\\anaconda3\\Lib\\site-packages\\gymnasium\\envs\\toy_text\\cliffwalking.py:293\u001b[0m, in \u001b[0;36mCliffWalkingEnv._render_gui\u001b[1;34m(self, mode)\u001b[0m\n\u001b[0;32m    291\u001b[0m     pygame\u001b[38;5;241m.\u001b[39mevent\u001b[38;5;241m.\u001b[39mpump()\n\u001b[0;32m    292\u001b[0m     pygame\u001b[38;5;241m.\u001b[39mdisplay\u001b[38;5;241m.\u001b[39mupdate()\n\u001b[1;32m--> 293\u001b[0m     \u001b[38;5;28mself\u001b[39m\u001b[38;5;241m.\u001b[39mclock\u001b[38;5;241m.\u001b[39mtick(\u001b[38;5;28mself\u001b[39m\u001b[38;5;241m.\u001b[39mmetadata[\u001b[38;5;124m\"\u001b[39m\u001b[38;5;124mrender_fps\u001b[39m\u001b[38;5;124m\"\u001b[39m])\n\u001b[0;32m    294\u001b[0m \u001b[38;5;28;01melse\u001b[39;00m:  \u001b[38;5;66;03m# rgb_array\u001b[39;00m\n\u001b[0;32m    295\u001b[0m     \u001b[38;5;28;01mreturn\u001b[39;00m np\u001b[38;5;241m.\u001b[39mtranspose(\n\u001b[0;32m    296\u001b[0m         np\u001b[38;5;241m.\u001b[39marray(pygame\u001b[38;5;241m.\u001b[39msurfarray\u001b[38;5;241m.\u001b[39mpixels3d(\u001b[38;5;28mself\u001b[39m\u001b[38;5;241m.\u001b[39mwindow_surface)), axes\u001b[38;5;241m=\u001b[39m(\u001b[38;5;241m1\u001b[39m, \u001b[38;5;241m0\u001b[39m, \u001b[38;5;241m2\u001b[39m)\n\u001b[0;32m    297\u001b[0m     )\n",
      "\u001b[1;31mKeyboardInterrupt\u001b[0m: "
     ]
    }
   ],
   "source": [
    "observation, info = envTwo.reset()\n",
    "terminal = False\n",
    "square = 0\n",
    "while(not terminal):\n",
    "    allSame = (q_table[square][0] == q_table[square][1]) and (q_table[square][2] == q_table[square][3])\n",
    "    if(not allSame): #check if all values are same \n",
    "        direction = my_max(q_table[square])\n",
    "    else:\n",
    "        direction = random.randint(0, 3)\n",
    "    row, col = find_row_col(grid, square+1)  \n",
    "    if(direction == 0 and col == 0):\n",
    "        continue\n",
    "    elif(direction == 1 and row == 4):\n",
    "        continue\n",
    "    elif(direction == 2 and col == 3):\n",
    "        continue\n",
    "    elif(direction == 3 and row == 0):\n",
    "        print(direction == 3 and row == 0) \n",
    "        continue\n",
    "    arr = envTwo.step(direction)\n",
    "    newSquare = arr[0]\n",
    "    reward = arr[1]\n",
    "    terminal = arr[2]\n",
    "    square = newSquare"
   ]
  },
  {
   "cell_type": "code",
   "execution_count": 52,
   "id": "947b3a95-5e9c-494c-9aed-32e5cd7b5792",
   "metadata": {},
   "outputs": [],
   "source": [
    "envTwo.close()"
   ]
  },
  {
   "cell_type": "code",
   "execution_count": null,
   "id": "43351853-4d2d-41d8-b887-a9e77dd91915",
   "metadata": {},
   "outputs": [],
   "source": []
  },
  {
   "cell_type": "code",
   "execution_count": null,
   "id": "91135c75-0a0c-4a25-ad04-4a67ef9ba98b",
   "metadata": {},
   "outputs": [],
   "source": [
    "env.step(1)#U = 0, R = 1, D = 2, L = 3"
   ]
  },
  {
   "cell_type": "code",
   "execution_count": null,
   "id": "ce772213-883e-486c-9daa-f9d32d381e5c",
   "metadata": {},
   "outputs": [],
   "source": []
  }
 ],
 "metadata": {
  "kernelspec": {
   "display_name": "Python 3 (ipykernel)",
   "language": "python",
   "name": "python3"
  },
  "language_info": {
   "codemirror_mode": {
    "name": "ipython",
    "version": 3
   },
   "file_extension": ".py",
   "mimetype": "text/x-python",
   "name": "python",
   "nbconvert_exporter": "python",
   "pygments_lexer": "ipython3",
   "version": "3.11.7"
  }
 },
 "nbformat": 4,
 "nbformat_minor": 5
}
