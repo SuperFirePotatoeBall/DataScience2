{
 "cells": [
  {
   "cell_type": "code",
   "execution_count": 1,
   "id": "c7393d9a",
   "metadata": {},
   "outputs": [],
   "source": [
    "from sklearn.mixture import GaussianMixture\n",
    "import numpy as np"
   ]
  },
  {
   "cell_type": "code",
   "execution_count": 2,
   "id": "8f9c9c84",
   "metadata": {},
   "outputs": [],
   "source": [
    "# Sample data generation\n",
    "np.random.seed(0)\n",
    "# Generate random data with two clusters\n",
    "cluster1 = np.random.normal(loc=0, scale=1, size=(100, 2))\n",
    "cluster2 = np.random.normal(loc=4, scale=1, size=(100, 2))\n",
    "data = np.vstack((cluster1, cluster2))"
   ]
  },
  {
   "cell_type": "code",
   "execution_count": 3,
   "id": "7eaf9420",
   "metadata": {},
   "outputs": [
    {
     "data": {
      "text/plain": [
       "GaussianMixture(n_components=2, random_state=0)"
      ]
     },
     "execution_count": 3,
     "metadata": {},
     "output_type": "execute_result"
    }
   ],
   "source": [
    "# Fit a Gaussian Mixture Model\n",
    "gmm = GaussianMixture(n_components=2, random_state=0)\n",
    "gmm.fit(data)"
   ]
  },
  {
   "cell_type": "code",
   "execution_count": 4,
   "id": "6b22d0a5",
   "metadata": {},
   "outputs": [],
   "source": [
    "# Predict the labels\n",
    "labels = gmm.predict(data)"
   ]
  },
  {
   "cell_type": "code",
   "execution_count": 5,
   "id": "1e8cebba",
   "metadata": {},
   "outputs": [
    {
     "name": "stdout",
     "output_type": "stream",
     "text": [
      "Means:\n",
      " [[ 3.85370362e+00  3.88214962e+00]\n",
      " [-3.65295543e-03  1.41944691e-01]]\n",
      "Covariances:\n",
      " [[[ 0.9340381  -0.06855897]\n",
      "  [-0.06855897  0.86215101]]\n",
      "\n",
      " [[ 1.0412044  -0.02588042]\n",
      "  [-0.02588042  1.03560327]]]\n"
     ]
    }
   ],
   "source": [
    "# Print the means and covariances of each component\n",
    "print(\"Means:\\n\", gmm.means_)\n",
    "print(\"Covariances:\\n\", gmm.covariances_)"
   ]
  },
  {
   "cell_type": "code",
   "execution_count": null,
   "id": "fff39d54",
   "metadata": {},
   "outputs": [],
   "source": []
  }
 ],
 "metadata": {
  "kernelspec": {
   "display_name": "Python 3 (ipykernel)",
   "language": "python",
   "name": "python3"
  },
  "language_info": {
   "codemirror_mode": {
    "name": "ipython",
    "version": 3
   },
   "file_extension": ".py",
   "mimetype": "text/x-python",
   "name": "python",
   "nbconvert_exporter": "python",
   "pygments_lexer": "ipython3",
   "version": "3.9.13"
  }
 },
 "nbformat": 4,
 "nbformat_minor": 5
}
