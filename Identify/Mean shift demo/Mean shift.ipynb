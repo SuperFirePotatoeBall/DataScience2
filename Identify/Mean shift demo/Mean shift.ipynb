{
 "cells": [
  {
   "cell_type": "code",
   "execution_count": 4,
   "id": "1ab2fb85",
   "metadata": {},
   "outputs": [],
   "source": [
    "import pandas as pd\n",
    "from sklearn.cluster import MeanShift"
   ]
  },
  {
   "cell_type": "code",
   "execution_count": 5,
   "id": "016a7eae",
   "metadata": {},
   "outputs": [],
   "source": [
    "movies = pd.read_json(\"movies.json\")\n",
    "reviews = pd.read_json(\"reviews.json\")"
   ]
  },
  {
   "cell_type": "code",
   "execution_count": 6,
   "id": "4772d2eb",
   "metadata": {},
   "outputs": [],
   "source": [
    "reviews = reviews.drop(['timestamp'], axis=1)"
   ]
  },
  {
   "cell_type": "code",
   "execution_count": 16,
   "id": "2cdec40d",
   "metadata": {},
   "outputs": [],
   "source": [
    "mostReviewed = 3\n",
    "topN = reviews.groupby('item_id').size().sort_values(ascending=False).head(mostReviewed).reset_index()"
   ]
  },
  {
   "cell_type": "code",
   "execution_count": 17,
   "id": "ddca5575",
   "metadata": {},
   "outputs": [],
   "source": [
    "topOnlyDF = reviews[reviews[\"item_id\"].isin(topN[\"item_id\"])]"
   ]
  },
  {
   "cell_type": "code",
   "execution_count": 21,
   "id": "a3c552c3",
   "metadata": {},
   "outputs": [],
   "source": [
    "pivotDF = topOnlyDF.pivot(index='user_id', columns = 'item_id', values = 'rating')"
   ]
  },
  {
   "cell_type": "code",
   "execution_count": 25,
   "id": "e14bd61b",
   "metadata": {},
   "outputs": [],
   "source": [
    "topOnlyDF = topOnlyDF.dropna(axis=0, how='all')"
   ]
  },
  {
   "cell_type": "code",
   "execution_count": 26,
   "id": "289e596e",
   "metadata": {},
   "outputs": [],
   "source": [
    "pivotDF = pivotDF.fillna(-1)"
   ]
  },
  {
   "cell_type": "code",
   "execution_count": 31,
   "id": "67b49657",
   "metadata": {},
   "outputs": [
    {
     "data": {
      "text/html": [
       "<div>\n",
       "<style scoped>\n",
       "    .dataframe tbody tr th:only-of-type {\n",
       "        vertical-align: middle;\n",
       "    }\n",
       "\n",
       "    .dataframe tbody tr th {\n",
       "        vertical-align: top;\n",
       "    }\n",
       "\n",
       "    .dataframe thead th {\n",
       "        text-align: right;\n",
       "    }\n",
       "</style>\n",
       "<table border=\"1\" class=\"dataframe\">\n",
       "  <thead>\n",
       "    <tr style=\"text-align: right;\">\n",
       "      <th>item_id</th>\n",
       "      <th>50</th>\n",
       "      <th>100</th>\n",
       "      <th>258</th>\n",
       "    </tr>\n",
       "    <tr>\n",
       "      <th>user_id</th>\n",
       "      <th></th>\n",
       "      <th></th>\n",
       "      <th></th>\n",
       "    </tr>\n",
       "  </thead>\n",
       "  <tbody>\n",
       "    <tr>\n",
       "      <th>0</th>\n",
       "      <td>5.0</td>\n",
       "      <td>-1.0</td>\n",
       "      <td>-1.0</td>\n",
       "    </tr>\n",
       "    <tr>\n",
       "      <th>1</th>\n",
       "      <td>5.0</td>\n",
       "      <td>5.0</td>\n",
       "      <td>5.0</td>\n",
       "    </tr>\n",
       "    <tr>\n",
       "      <th>2</th>\n",
       "      <td>5.0</td>\n",
       "      <td>5.0</td>\n",
       "      <td>3.0</td>\n",
       "    </tr>\n",
       "    <tr>\n",
       "      <th>3</th>\n",
       "      <td>-1.0</td>\n",
       "      <td>-1.0</td>\n",
       "      <td>2.0</td>\n",
       "    </tr>\n",
       "    <tr>\n",
       "      <th>4</th>\n",
       "      <td>5.0</td>\n",
       "      <td>-1.0</td>\n",
       "      <td>5.0</td>\n",
       "    </tr>\n",
       "  </tbody>\n",
       "</table>\n",
       "</div>"
      ],
      "text/plain": [
       "item_id  50   100  258\n",
       "user_id               \n",
       "0        5.0 -1.0 -1.0\n",
       "1        5.0  5.0  5.0\n",
       "2        5.0  5.0  3.0\n",
       "3       -1.0 -1.0  2.0\n",
       "4        5.0 -1.0  5.0"
      ]
     },
     "execution_count": 31,
     "metadata": {},
     "output_type": "execute_result"
    }
   ],
   "source": [
    "pivotDF.head()"
   ]
  },
  {
   "cell_type": "code",
   "execution_count": 37,
   "id": "5e7bfe3d",
   "metadata": {},
   "outputs": [],
   "source": [
    "ms = MeanShift(bandwidth=2)"
   ]
  },
  {
   "cell_type": "code",
   "execution_count": 38,
   "id": "0a19cf73",
   "metadata": {},
   "outputs": [],
   "source": [
    "ms = ms.fit(pivotDF)"
   ]
  },
  {
   "cell_type": "code",
   "execution_count": 39,
   "id": "7a617cfe",
   "metadata": {},
   "outputs": [
    {
     "data": {
      "text/plain": [
       "array([4, 0, 0, 2, 3, 1, 0, 0, 3, 4, 1, 6, 4, 0, 1, 3, 5, 5, 1, 2, 4, 0,\n",
       "       3, 0, 6, 3, 0, 1, 0, 3, 1, 2, 2, 4, 2, 2, 1, 4, 0, 0, 1, 1, 2, 4,\n",
       "       7, 5, 4, 6, 0, 0, 4, 3, 0, 1, 0, 4, 2, 0, 0, 0, 0, 3, 3, 0, 4, 1,\n",
       "       1, 5, 6, 5, 6, 1, 0, 1, 5, 1, 4, 0, 2, 1, 1, 6, 4, 0, 0, 4, 1, 1,\n",
       "       0, 2, 4, 3, 4, 0, 2, 5, 2, 1, 0, 2, 2, 2, 0, 5, 1, 3, 3, 6, 0, 3,\n",
       "       1, 1, 4, 3, 2, 3, 3, 2, 0, 5, 1, 2, 2, 2, 6, 4, 5, 5, 2, 0, 2, 0,\n",
       "       0, 2, 2, 4, 2, 1, 0, 2, 3, 5, 0, 1, 2, 1, 1, 4, 2, 6, 2, 2, 6, 3,\n",
       "       2, 2, 2, 1, 1, 0, 0, 0, 2, 2, 6, 1, 3, 0, 3, 5, 1, 1, 6, 0, 6, 1,\n",
       "       6, 3, 3, 6, 3, 0, 2, 3, 2, 2, 2, 6, 3, 4, 0, 1, 3, 1, 2, 5, 2, 2,\n",
       "       1, 0, 2, 2, 2, 1, 2, 1, 4, 1, 1, 0, 1, 1, 5, 2, 1, 0, 3, 1, 0, 1,\n",
       "       0, 0, 0, 5, 1, 3, 6, 1, 0, 2, 2, 7, 0, 5, 7, 5, 1, 0, 1, 3, 0, 4,\n",
       "       0, 3, 0, 0, 2, 1, 1, 2, 2, 1, 2, 7, 0, 1, 0, 4, 1, 1, 0, 0, 1, 0,\n",
       "       0, 4, 1, 5, 0, 2, 0, 0, 7, 0, 1, 2, 3, 3, 1, 0, 5, 5, 1, 1, 1, 3,\n",
       "       0, 3, 1, 4, 7, 0, 0, 1, 5, 3, 5, 0, 2, 1, 4, 5, 0, 4, 5, 0, 0, 0,\n",
       "       1, 0, 5, 5, 3, 2, 1, 2, 0, 2, 2, 2, 4, 0, 0, 2, 0, 6, 0, 1, 4, 1,\n",
       "       4, 5, 1, 1, 5, 6, 0, 1, 0, 1, 7, 5, 2, 5, 4, 0, 6, 1, 6, 0, 3, 3,\n",
       "       4, 0, 5, 1, 1, 1, 2, 5, 0, 0, 2, 4, 1, 0, 2, 1, 2, 3, 0, 6, 2, 0,\n",
       "       0, 2, 1, 5, 1, 0, 6, 7, 0, 1, 2, 0, 0, 0, 4, 0, 4, 1, 1, 5, 2, 5,\n",
       "       5, 2, 0, 1, 0, 2, 5, 0, 2, 1, 0, 0, 0, 0, 0, 1, 3, 6, 3, 5, 0, 3,\n",
       "       0, 3, 0, 0, 0, 4, 0, 0, 1, 1, 0, 0, 1, 3, 3, 3, 0, 0, 0, 2, 0, 6,\n",
       "       5, 0, 1, 4, 4, 0, 0, 7, 0, 5, 2, 1, 0, 4, 3, 3, 4, 3, 2, 3, 3, 0,\n",
       "       2, 4, 3, 5, 5, 0, 5, 3, 1, 5, 0, 1, 3, 2, 1, 5, 0, 0, 4, 0, 0, 3,\n",
       "       0, 3, 1, 2, 3, 0, 2, 0, 0, 3, 7, 0, 1, 1, 0, 4, 5, 0, 7, 4, 4, 3,\n",
       "       1, 5, 5, 0, 2, 5, 3, 6, 4, 1, 1, 2, 0, 0, 1, 0, 6, 3, 4, 2, 2, 5,\n",
       "       5, 0, 1, 1, 0, 3, 4, 2, 4, 0, 4, 1, 5, 5, 0, 5, 5, 2, 4, 5, 3, 5,\n",
       "       5, 2, 5, 1, 3, 4, 1, 1, 3, 0, 0, 2, 6, 2, 0, 0, 0, 4, 0, 6, 1, 1,\n",
       "       5, 3, 3, 1, 0, 3, 2, 4, 4, 0, 0, 3, 0, 2, 1, 3, 1, 3, 1, 0, 1, 1,\n",
       "       0, 3, 3, 3, 4, 2, 4, 2, 0, 1, 1, 1, 2, 0, 2, 1, 4, 3, 4, 5, 3, 1,\n",
       "       4, 0, 0, 4, 1, 2, 0, 1, 4, 3, 5, 3, 4, 0, 3, 4, 3, 1, 4, 0, 4, 2,\n",
       "       3, 5, 3, 2, 6, 0, 5, 0, 6, 4, 0, 4, 6, 0, 1, 2, 4, 0, 6, 4, 0, 4,\n",
       "       0, 3, 0, 2, 1, 2, 4, 2, 0, 0, 0, 3, 3, 3, 0, 1, 4, 4, 5, 1, 2, 0,\n",
       "       3, 2, 0, 4, 2, 4, 5, 3, 4, 0, 3, 2, 2, 4, 1, 2, 6, 1, 0, 4, 5, 1,\n",
       "       1, 1, 0, 4, 3, 3, 4, 2, 1, 0, 0, 3, 2, 2, 5, 3, 2, 2, 2, 2, 2, 5,\n",
       "       1, 0, 3, 2, 6, 1, 0, 3, 1, 0, 4, 2, 2, 0, 0, 1, 2, 2, 3, 0, 3, 3,\n",
       "       4, 4, 3, 1, 2, 0, 2, 2, 5, 5, 0, 2, 0, 6, 3, 1, 1, 0, 3, 2, 2, 5,\n",
       "       3, 2, 0, 4, 0, 1, 3, 1, 6, 1, 1, 1, 5, 0, 3, 1, 1, 3, 0, 1, 0, 4,\n",
       "       2, 3, 5, 4, 3, 1, 6, 5, 0, 1, 1, 0, 2, 1, 1, 0, 2, 4, 3, 1, 0, 2,\n",
       "       1, 1, 0, 5, 1, 1, 5, 0, 0, 0, 2, 0, 2, 3, 1], dtype=int64)"
      ]
     },
     "execution_count": 39,
     "metadata": {},
     "output_type": "execute_result"
    }
   ],
   "source": [
    "ms.labels_"
   ]
  },
  {
   "cell_type": "code",
   "execution_count": 40,
   "id": "a8affaf7",
   "metadata": {},
   "outputs": [],
   "source": [
    "from sklearn.metrics import silhouette_score"
   ]
  },
  {
   "cell_type": "code",
   "execution_count": 41,
   "id": "dfbf11bf",
   "metadata": {},
   "outputs": [],
   "source": [
    "ss = silhouette_score(pivotDF, ms.labels_)"
   ]
  },
  {
   "cell_type": "code",
   "execution_count": 42,
   "id": "10bf19bc",
   "metadata": {},
   "outputs": [
    {
     "data": {
      "text/plain": [
       "0.651624514271997"
      ]
     },
     "execution_count": 42,
     "metadata": {},
     "output_type": "execute_result"
    }
   ],
   "source": [
    "ss"
   ]
  },
  {
   "cell_type": "code",
   "execution_count": 52,
   "id": "b65887fe",
   "metadata": {},
   "outputs": [],
   "source": [
    "scores = {}\n",
    "for i in range(25,35):\n",
    "    ms = MeanShift(bandwidth=i/10)\n",
    "    ms = ms.fit(pivotDF)\n",
    "    if(len(set(ms.labels_)) > 1):\n",
    "        ss = silhouette_score(pivotDF, ms.labels_)\n",
    "        scores[i] = ss"
   ]
  },
  {
   "cell_type": "code",
   "execution_count": 53,
   "id": "2996532a",
   "metadata": {},
   "outputs": [
    {
     "data": {
      "text/plain": [
       "{25: 0.6819678355942147,\n",
       " 26: 0.6819678355942147,\n",
       " 27: 0.6819678355942147,\n",
       " 28: 0.6819678355942147,\n",
       " 29: 0.6819678355942147,\n",
       " 30: 0.6819678355942147,\n",
       " 31: 0.6765597395050358,\n",
       " 32: 0.6037462669175054,\n",
       " 33: 0.45137226353343923,\n",
       " 34: 0.46101377501616136}"
      ]
     },
     "execution_count": 53,
     "metadata": {},
     "output_type": "execute_result"
    }
   ],
   "source": [
    "scores"
   ]
  },
  {
   "cell_type": "code",
   "execution_count": null,
   "id": "3c9704c5",
   "metadata": {},
   "outputs": [],
   "source": []
  }
 ],
 "metadata": {
  "kernelspec": {
   "display_name": "Python 3 (ipykernel)",
   "language": "python",
   "name": "python3"
  },
  "language_info": {
   "codemirror_mode": {
    "name": "ipython",
    "version": 3
   },
   "file_extension": ".py",
   "mimetype": "text/x-python",
   "name": "python",
   "nbconvert_exporter": "python",
   "pygments_lexer": "ipython3",
   "version": "3.9.13"
  }
 },
 "nbformat": 4,
 "nbformat_minor": 5
}
