{
 "cells": [
  {
   "cell_type": "code",
   "execution_count": 41,
   "id": "1164aa33",
   "metadata": {},
   "outputs": [],
   "source": [
    "import pandas as pd\n",
    "import seaborn as sns\n",
    "import numpy as np\n",
    "from sklearn.cluster import KMeans\n",
    "from sklearn.preprocessing import StandardScaler"
   ]
  },
  {
   "cell_type": "code",
   "execution_count": 42,
   "id": "67a89ce2",
   "metadata": {},
   "outputs": [],
   "source": [
    "df = pd.read_csv('marketingData.csv')"
   ]
  },
  {
   "cell_type": "code",
   "execution_count": 43,
   "id": "ce244e03",
   "metadata": {},
   "outputs": [],
   "source": [
    "#qualitative data wrangling\n",
    "#Qualitative coloumns to change: Education, Marital_Status \n",
    "#IDK about lots of the options for the qualitative options, so there may be better ways to number it\n",
    "education_mapping = {'Graduation': 1, 'PhD': 2, 'Master': 3, 'Basic': 4, '2n Cycle': 5}\n",
    "marital_mapping = {'Single': 1, 'Together': 2, 'Married': 3, 'Divorced': 4, 'Widow': 5, 'Alone': 6,'Absurd': 7, 'YOLO': 8}\n",
    "df['Education'] = df['Education'].map(education_mapping)\n",
    "df['Marital_Status'] = df['Marital_Status'].map(marital_mapping)\n",
    "\n",
    "#Qualitative coloumns to throw away: Dt_Customer cuase idk how to turn it into quantatative\n",
    "df.drop(columns=['Dt_Customer'], inplace=True)"
   ]
  },
  {
   "cell_type": "code",
   "execution_count": 44,
   "id": "d8838141",
   "metadata": {},
   "outputs": [],
   "source": [
    "#quantative data wrangling\n",
    "#Not important columns:\n",
    "#ID as it syas nothing about the entry\n",
    "df.drop(columns=['ID'], inplace=True)\n",
    "#Z_CostContact and Z_Revenue as they are all the same\n",
    "df.drop(columns=['Z_CostContact'], inplace=True)\n",
    "df.drop(columns=['Z_Revenue'], inplace=True)"
   ]
  },
  {
   "cell_type": "code",
   "execution_count": 45,
   "id": "abf5cffe",
   "metadata": {},
   "outputs": [],
   "source": [
    "#null data wrangling\n",
    "#income\n",
    "#just income, replace it with mean\n",
    "df_filled = df.fillna(df.mean())"
   ]
  },
  {
   "cell_type": "code",
   "execution_count": 46,
   "id": "1a996470",
   "metadata": {},
   "outputs": [],
   "source": [
    "#scale the data:\n",
    "scaler = StandardScaler()\n",
    "scaler.fit(df)\n",
    "scaled_arr = scaler.transform(df)\n",
    "scaled_df = pd.DataFrame(scaled_arr)"
   ]
  },
  {
   "cell_type": "code",
   "execution_count": 47,
   "id": "5168ce2a",
   "metadata": {},
   "outputs": [
    {
     "name": "stdout",
     "output_type": "stream",
     "text": [
      "<class 'pandas.core.frame.DataFrame'>\n",
      "RangeIndex: 2240 entries, 0 to 2239\n",
      "Data columns (total 25 columns):\n",
      " #   Column  Non-Null Count  Dtype  \n",
      "---  ------  --------------  -----  \n",
      " 0   0       2240 non-null   float64\n",
      " 1   1       2240 non-null   float64\n",
      " 2   2       2240 non-null   float64\n",
      " 3   3       2216 non-null   float64\n",
      " 4   4       2240 non-null   float64\n",
      " 5   5       2240 non-null   float64\n",
      " 6   6       2240 non-null   float64\n",
      " 7   7       2240 non-null   float64\n",
      " 8   8       2240 non-null   float64\n",
      " 9   9       2240 non-null   float64\n",
      " 10  10      2240 non-null   float64\n",
      " 11  11      2240 non-null   float64\n",
      " 12  12      2240 non-null   float64\n",
      " 13  13      2240 non-null   float64\n",
      " 14  14      2240 non-null   float64\n",
      " 15  15      2240 non-null   float64\n",
      " 16  16      2240 non-null   float64\n",
      " 17  17      2240 non-null   float64\n",
      " 18  18      2240 non-null   float64\n",
      " 19  19      2240 non-null   float64\n",
      " 20  20      2240 non-null   float64\n",
      " 21  21      2240 non-null   float64\n",
      " 22  22      2240 non-null   float64\n",
      " 23  23      2240 non-null   float64\n",
      " 24  24      2240 non-null   float64\n",
      "dtypes: float64(25)\n",
      "memory usage: 437.6 KB\n"
     ]
    }
   ],
   "source": [
    "scaled_df.info()"
   ]
  },
  {
   "cell_type": "code",
   "execution_count": 48,
   "id": "e60862ec",
   "metadata": {},
   "outputs": [],
   "source": [
    "scaled_df = scaled_df.fillna(scaled_df.mean())"
   ]
  },
  {
   "cell_type": "code",
   "execution_count": 49,
   "id": "cb6ecfac",
   "metadata": {},
   "outputs": [],
   "source": [
    "inertias = []\n",
    "for n in range(2, 40):\n",
    "    kmeans = KMeans(n_clusters=n).fit(scaled_df)\n",
    "    inertias.append(kmeans.inertia_)"
   ]
  },
  {
   "cell_type": "code",
   "execution_count": 50,
   "id": "951fbf01",
   "metadata": {},
   "outputs": [
    {
     "data": {
      "text/plain": [
       "<AxesSubplot:>"
      ]
     },
     "execution_count": 50,
     "metadata": {},
     "output_type": "execute_result"
    },
    {
     "data": {
      "image/png": "[encoded data removed]",
      "text/plain": [
       "<Figure size 640x480 with 1 Axes>"
      ]
     },
     "metadata": {},
     "output_type": "display_data"
    }
   ],
   "source": [
    "sns.lineplot(data=inertias)"
   ]
  },
  {
   "cell_type": "code",
   "execution_count": 51,
   "id": "0d8feaa6",
   "metadata": {},
   "outputs": [],
   "source": [
    "kmeans = KMeans(n_clusters=11).fit(scaled_df)"
   ]
  },
  {
   "cell_type": "code",
   "execution_count": 52,
   "id": "1021d8a0",
   "metadata": {},
   "outputs": [
    {
     "name": "stdout",
     "output_type": "stream",
     "text": [
      "[ 2  8 10 ...  0 10  8]\n"
     ]
    }
   ],
   "source": [
    "predictions = kmeans.predict(scaled_df)\n",
    "print(predictions)"
   ]
  },
  {
   "cell_type": "code",
   "execution_count": 60,
   "id": "fe61b461",
   "metadata": {},
   "outputs": [],
   "source": [
    "def find_most_common(arr):\n",
    "    frequency = {}\n",
    "    most_common_value = None\n",
    "    max_frequency = 0\n",
    "    \n",
    "    for num in arr:\n",
    "        if num in frequency:\n",
    "            frequency[num] += 1\n",
    "        else:\n",
    "            frequency[num] = 1\n",
    "        \n",
    "        if frequency[num] > max_frequency:\n",
    "            max_frequency = frequency[num]\n",
    "            most_common_value = num\n",
    "            \n",
    "    return most_common_value"
   ]
  },
  {
   "cell_type": "code",
   "execution_count": 61,
   "id": "208bb248",
   "metadata": {},
   "outputs": [
    {
     "data": {
      "text/plain": [
       "8"
      ]
     },
     "execution_count": 61,
     "metadata": {},
     "output_type": "execute_result"
    }
   ],
   "source": [
    "find_most_common(predictions)"
   ]
  },
  {
   "cell_type": "code",
   "execution_count": 53,
   "id": "60acb3e9",
   "metadata": {},
   "outputs": [],
   "source": [
    "centers = kmeans.cluster_centers_"
   ]
  },
  {
   "cell_type": "code",
   "execution_count": 68,
   "id": "026c3f7a",
   "metadata": {},
   "outputs": [],
   "source": [
    "unscaled_centers = scaler.inverse_transform(centers)\n",
    "python_array = unscaled_centers.tolist()"
   ]
  },
  {
   "cell_type": "code",
   "execution_count": 74,
   "id": "22da3879",
   "metadata": {},
   "outputs": [
    {
     "data": {
      "text/plain": [
       "[1962.4105011933175,\n",
       " 1.7255369928400954,\n",
       " 2.558472553699284,\n",
       " 43062.822814979794,\n",
       " 0.6229116945107398,\n",
       " 0.9546539379474939,\n",
       " 49.21957040572792,\n",
       " 65.3341288782816,\n",
       " 4.0787589498806724,\n",
       " 24.24105011933176,\n",
       " 6.0596658711217195,\n",
       " 4.097852028639629,\n",
       " 13.515513126491637,\n",
       " 2.1408114558472553,\n",
       " 2.2386634844868736,\n",
       " 0.6491646778042948,\n",
       " 3.5775656324582337,\n",
       " 5.689737470167064,\n",
       " -8.326672684688674e-17,\n",
       " 5.551115123125783e-17,\n",
       " 1.3877787807814457e-17,\n",
       " -4.163336342344337e-17,\n",
       " -3.469446951953614e-18,\n",
       " -3.469446951953614e-18,\n",
       " 0.038186157517899846]"
      ]
     },
     "execution_count": 74,
     "metadata": {},
     "output_type": "execute_result"
    }
   ],
   "source": [
    "python_array[8]"
   ]
  },
  {
   "cell_type": "code",
   "execution_count": 78,
   "id": "9a600f61",
   "metadata": {},
   "outputs": [
    {
     "name": "stdout",
     "output_type": "stream",
     "text": [
      "Year_Birth  |  1962.4105011933175\n",
      "Education  |  1.7255369928400954\n",
      "Marital_Status  |  2.558472553699284\n",
      "Income  |  43062.822814979794\n",
      "Kidhome  |  0.6229116945107398\n",
      "Teenhome  |  0.9546539379474939\n",
      "Recency  |  49.21957040572792\n",
      "MntWines  |  65.3341288782816\n",
      "MntFruits  |  4.0787589498806724\n",
      "MntMeatProducts  |  24.24105011933176\n",
      "MntFishProducts  |  6.0596658711217195\n",
      "MntSweetProducts  |  4.097852028639629\n",
      "MntGoldProds  |  13.515513126491637\n",
      "NumDealsPurchases  |  2.1408114558472553\n",
      "NumWebPurchases  |  2.2386634844868736\n",
      "NumCatalogPurchases  |  0.6491646778042948\n",
      "NumStorePurchases  |  3.5775656324582337\n",
      "NumWebVisitsMonth  |  5.689737470167064\n",
      "AcceptedCmp3  |  -8.326672684688674e-17\n",
      "AcceptedCmp4  |  5.551115123125783e-17\n",
      "AcceptedCmp5  |  1.3877787807814457e-17\n",
      "AcceptedCmp1  |  -4.163336342344337e-17\n",
      "AcceptedCmp2  |  -3.469446951953614e-18\n",
      "Complain  |  -3.469446951953614e-18\n",
      "Response  |  0.038186157517899846\n"
     ]
    }
   ],
   "source": [
    "keys = df_filled.columns.tolist()\n",
    "for i in range(len(python_array[8])):\n",
    "    print(keys[i], \" | \", python_array[8][i])"
   ]
  },
  {
   "cell_type": "code",
   "execution_count": null,
   "id": "e227072c",
   "metadata": {},
   "outputs": [],
   "source": [
    "#Group #8, the largest group, is \n",
    "\n",
    "\n",
    "#Year_Birth  |  1962.4105011933175\n",
    "# Education  |  1.7255369928400954\n",
    "# Marital_Status  |  2.558472553699284\n",
    "# Income  |  43062.822814979794\n",
    "# Kidhome  |  0.6229116945107398\n",
    "# Teenhome  |  0.9546539379474939\n",
    "# Recency  |  49.21957040572792\n",
    "# MntWines  |  65.3341288782816\n",
    "# MntFruits  |  4.0787589498806724\n",
    "# MntMeatProducts  |  24.24105011933176\n",
    "# MntFishProducts  |  6.0596658711217195\n",
    "# MntSweetProducts  |  4.097852028639629\n",
    "# MntGoldProds  |  13.515513126491637\n",
    "# NumDealsPurchases  |  2.1408114558472553\n",
    "# NumWebPurchases  |  2.2386634844868736\n",
    "# NumCatalogPurchases  |  0.6491646778042948\n",
    "# NumStorePurchases  |  3.5775656324582337\n",
    "# NumWebVisitsMonth  |  5.689737470167064\n",
    "# AcceptedCmp3  |  -8.326672684688674e-17\n",
    "# AcceptedCmp4  |  5.551115123125783e-17\n",
    "# AcceptedCmp5  |  1.3877787807814457e-17\n",
    "# AcceptedCmp1  |  -4.163336342344337e-17\n",
    "# AcceptedCmp2  |  -3.469446951953614e-18\n",
    "# Complain  |  -3.469446951953614e-18\n",
    "# Response  |  0.038186157517899846"
   ]
  },
  {
   "cell_type": "code",
   "execution_count": 75,
   "id": "16ecee3d",
   "metadata": {},
   "outputs": [
    {
     "name": "stdout",
     "output_type": "stream",
     "text": [
      "<class 'pandas.core.frame.DataFrame'>\n",
      "RangeIndex: 2265 entries, 0 to 2264\n",
      "Data columns (total 26 columns):\n",
      " #   Column               Non-Null Count  Dtype  \n",
      "---  ------               --------------  -----  \n",
      " 0   Year_Birth           2240 non-null   float64\n",
      " 1   Education            2240 non-null   float64\n",
      " 2   Marital_Status       2240 non-null   float64\n",
      " 3   Income               2240 non-null   float64\n",
      " 4   Kidhome              2240 non-null   float64\n",
      " 5   Teenhome             2240 non-null   float64\n",
      " 6   Recency              2240 non-null   float64\n",
      " 7   MntWines             2240 non-null   float64\n",
      " 8   MntFruits            2240 non-null   float64\n",
      " 9   MntMeatProducts      2240 non-null   float64\n",
      " 10  MntFishProducts      2240 non-null   float64\n",
      " 11  MntSweetProducts     2240 non-null   float64\n",
      " 12  MntGoldProds         2240 non-null   float64\n",
      " 13  NumDealsPurchases    2240 non-null   float64\n",
      " 14  NumWebPurchases      2240 non-null   float64\n",
      " 15  NumCatalogPurchases  2240 non-null   float64\n",
      " 16  NumStorePurchases    2240 non-null   float64\n",
      " 17  NumWebVisitsMonth    2240 non-null   float64\n",
      " 18  AcceptedCmp3         2240 non-null   float64\n",
      " 19  AcceptedCmp4         2240 non-null   float64\n",
      " 20  AcceptedCmp5         2240 non-null   float64\n",
      " 21  AcceptedCmp1         2240 non-null   float64\n",
      " 22  AcceptedCmp2         2240 non-null   float64\n",
      " 23  Complain             2240 non-null   float64\n",
      " 24  Response             2240 non-null   float64\n",
      " 25  0                    25 non-null     float64\n",
      "dtypes: float64(26)\n",
      "memory usage: 460.2 KB\n"
     ]
    }
   ],
   "source": [
    "df_filled.info()"
   ]
  },
  {
   "cell_type": "code",
   "execution_count": null,
   "id": "c2a92ce0",
   "metadata": {},
   "outputs": [],
   "source": []
  }
 ],
 "metadata": {
  "kernelspec": {
   "display_name": "Python 3 (ipykernel)",
   "language": "python",
   "name": "python3"
  },
  "language_info": {
   "codemirror_mode": {
    "name": "ipython",
    "version": 3
   },
   "file_extension": ".py",
   "mimetype": "text/x-python",
   "name": "python",
   "nbconvert_exporter": "python",
   "pygments_lexer": "ipython3",
   "version": "3.9.13"
  }
 },
 "nbformat": 4,
 "nbformat_minor": 5
}
