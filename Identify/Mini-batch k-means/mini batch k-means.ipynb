{
 "cells": [
  {
   "cell_type": "code",
   "execution_count": 1,
   "id": "80f1aa32",
   "metadata": {},
   "outputs": [],
   "source": [
    "import pandas as pd"
   ]
  },
  {
   "cell_type": "code",
   "execution_count": null,
   "id": "00cb0d5b",
   "metadata": {},
   "outputs": [],
   "source": [
    "movies = pd.read_json(\"movies.json\")\n",
    "movies.head()"
   ]
  },
  {
   "cell_type": "code",
   "execution_count": null,
   "id": "38ad5586",
   "metadata": {},
   "outputs": [],
   "source": [
    "reviews = pd.read_json(\"reviews.json\")\n",
    "reviews.head()"
   ]
  },
  {
   "cell_type": "code",
   "execution_count": null,
   "id": "36707bf9",
   "metadata": {},
   "outputs": [],
   "source": [
    "#168 is holy grail, 173 is princess bride\n",
    "# all the best movies are in a row, 172 is empire strikes back, 173 is princess bride, 174 is raiders of the lost arc, and 175 is brazil"
   ]
  },
  {
   "cell_type": "code",
   "execution_count": null,
   "id": "018463d4",
   "metadata": {},
   "outputs": [],
   "source": [
    "reviews = reviews.drop(['timestamp'], axis=1)"
   ]
  }
 ],
 "metadata": {
  "kernelspec": {
   "display_name": "Python 3 (ipykernel)",
   "language": "python",
   "name": "python3"
  },
  "language_info": {
   "codemirror_mode": {
    "name": "ipython",
    "version": 3
   },
   "file_extension": ".py",
   "mimetype": "text/x-python",
   "name": "python",
   "nbconvert_exporter": "python",
   "pygments_lexer": "ipython3",
   "version": "3.9.13"
  }
 },
 "nbformat": 4,
 "nbformat_minor": 5
}
